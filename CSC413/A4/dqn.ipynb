{
  "cells": [
    {
      "cell_type": "markdown",
      "metadata": {
        "id": "V3szwJAdaoQa"
      },
      "source": [
        "## Enable rendering OpenAI Gym environments from CoLab\n",
        "\n",
        "In this assignemnt, We will use [OpenAI Gym](https://gym.openai.com/) for rendering game envionment for our agent to play and learn. It is possible and important to visualize the game your agent is playing, even on Colab. This section imports the necessary package and functions needed to generate a video in Colab. The video processing steps credit to [here](https://colab.research.google.com/drive/1flu31ulJlgiRL1dnN2ir8wGh9p7Zij2t)."
      ]
    },
    {
      "cell_type": "code",
      "execution_count": 25,
      "metadata": {
        "colab": {
          "base_uri": "https://localhost:8080/"
        },
        "id": "M9fFfA-gb8oC",
        "outputId": "9df8a9b9-779d-48c5-adf4-5ce5c0f81aed"
      },
      "outputs": [
        {
          "output_type": "stream",
          "name": "stdout",
          "text": [
            "Looking in indexes: https://pypi.org/simple, https://us-python.pkg.dev/colab-wheels/public/simple/\n",
            "Requirement already satisfied: setuptools in /usr/local/lib/python3.9/dist-packages (67.6.1)\n"
          ]
        }
      ],
      "source": [
        "# You will need to run this block twice to make it effective\n",
        "!apt-get update > /dev/null 2>&1\n",
        "!apt-get install cmake > /dev/null 2>&1\n",
        "!pip install --upgrade setuptools 2>&1\n",
        "!pip install ez_setup > /dev/null 2>&1\n",
        "!pip install gym[atari] > /dev/null 2>&1\n",
        "!pip install box2d-py > /dev/null 2>&1\n",
        "!pip install gym[Box_2D] > /dev/null 2>&1"
      ]
    },
    {
      "cell_type": "code",
      "execution_count": 26,
      "metadata": {
        "id": "NE1QQOVX27dp"
      },
      "outputs": [],
      "source": [
        "!pip install gym==0.15.3 pyvirtualdisplay > /dev/null 2>&1\n",
        "!apt-get install -y xvfb python-opengl ffmpeg > /dev/null 2>&1"
      ]
    },
    {
      "cell_type": "markdown",
      "metadata": {
        "id": "QfTPg6uZckCm"
      },
      "source": [
        "Import openAI gym and define the functions used to show the video."
      ]
    },
    {
      "cell_type": "code",
      "execution_count": 27,
      "metadata": {
        "id": "JLl9cs6ncAf0"
      },
      "outputs": [],
      "source": [
        "import gym\n",
        "from gym.wrappers import Monitor\n",
        "import glob\n",
        "import io\n",
        "import base64\n",
        "from IPython.display import HTML\n",
        "from pyvirtualdisplay import Display\n",
        "from IPython import display as ipythondisplay\n",
        "\n",
        "display = Display(visible=0, size=(1400, 900))\n",
        "display.start()\n",
        "\n",
        "\"\"\"\n",
        "Utility functions to enable video recording of gym environment \n",
        "and displaying it.\n",
        "To enable video, just do \"env = wrap_env(env)\"\"\n",
        "\"\"\"\n",
        "\n",
        "def show_video():\n",
        "  mp4list = glob.glob('video/*.mp4')\n",
        "  if len(mp4list) > 0:\n",
        "    mp4 = mp4list[0]\n",
        "    video = io.open(mp4, 'r+b').read()\n",
        "    encoded = base64.b64encode(video)\n",
        "    ipythondisplay.display(HTML(data='''<video alt=\"test\" autoplay \n",
        "                loop controls style=\"height: 400px;\">\n",
        "                <source src=\"data:video/mp4;base64,{0}\" type=\"video/mp4\" />\n",
        "             </video>'''.format(encoded.decode('ascii'))))\n",
        "  else: \n",
        "    print(\"Could not find video\")\n",
        "    \n",
        "\n",
        "def wrap_env(env):\n",
        "  env = Monitor(env, './video', force=True)\n",
        "  return env"
      ]
    },
    {
      "cell_type": "markdown",
      "metadata": {
        "id": "UHkrflTWakKd"
      },
      "source": [
        "Import other packages:\n",
        "\n",
        "We will use Pytorch for building and learning our DQN network."
      ]
    },
    {
      "cell_type": "code",
      "execution_count": 28,
      "metadata": {
        "id": "9KvZYSl6RrzD"
      },
      "outputs": [],
      "source": [
        "import torch\n",
        "from torch import nn\n",
        "import copy\n",
        "from collections import deque\n",
        "import random\n",
        "from tqdm import tqdm\n",
        "import matplotlib.pyplot as plt\n",
        "\n",
        "random.seed(42)"
      ]
    },
    {
      "cell_type": "markdown",
      "metadata": {
        "id": "zrLGCk-3ditk"
      },
      "source": [
        "## Run the game with random agent."
      ]
    },
    {
      "cell_type": "code",
      "execution_count": 29,
      "metadata": {
        "id": "ZMcGALcWeWfh",
        "colab": {
          "base_uri": "https://localhost:8080/",
          "height": 456
        },
        "outputId": "9978d9e3-fbdb-459e-c3d1-6095afd735b7"
      },
      "outputs": [
        {
          "output_type": "stream",
          "name": "stderr",
          "text": [
            "100%|██████████| 20/20 [00:06<00:00,  2.98it/s]"
          ]
        },
        {
          "output_type": "stream",
          "name": "stdout",
          "text": [
            "average reward per episode : 22.8\n"
          ]
        },
        {
          "output_type": "stream",
          "name": "stderr",
          "text": [
            "\n"
          ]
        },
        {
          "output_type": "display_data",
          "data": {
            "text/plain": [
              "<IPython.core.display.HTML object>"
            ],
            "text/html": [
              "<video alt=\"test\" autoplay \n",
              "                loop controls style=\"height: 400px;\">\n",
              "                <source src=\"data:video/mp4;base64,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\" type=\"video/mp4\" />\n",
              "             </video>"
            ]
          },
          "metadata": {}
        }
      ],
      "source": [
        "from torch import randint\n",
        "from time import sleep\n",
        "\n",
        "env = wrap_env(gym.make('CartPole-v1'))\n",
        "reward_arr = []\n",
        "episode_count = 20\n",
        "for i in tqdm(range(episode_count)):\n",
        "    obs, done, rew = env.reset(), False, 0\n",
        "    env.render()\n",
        "    while not done:\n",
        "        A = randint(0, env.action_space.n, (1,))\n",
        "        obs, reward, done, info = env.step(A.item())\n",
        "        rew += reward\n",
        "        sleep(0.01)\n",
        "    reward_arr.append(rew)\n",
        "print(\"average reward per episode :\", sum(reward_arr) / len(reward_arr))\n",
        "env.close()\n",
        "show_video()"
      ]
    },
    {
      "cell_type": "markdown",
      "metadata": {
        "id": "Ope0zHAjfXQh"
      },
      "source": [
        "The episode ends when the pole is more than 15 degrees from vertical, or the cart moves more than 2.4 units from the center. The video is short (< 1s) because the pole loses balance immediately. \n",
        "\n",
        "You can see that a random agent is having trouble balancing the CartPole, just like you. However, a difficult game for human may be very simple to a computer. Let's see how we can use DQN to train a agent. "
      ]
    },
    {
      "cell_type": "markdown",
      "metadata": {
        "id": "OjP_2jn3SFgv"
      },
      "source": [
        "## Experience Replay\n",
        "\n",
        "The technique of experience replay was first proposed in to resolve temporal correlation in the input data by mixing recent experiences as well past experiences, essentially forcing the input to become independent and identically distributed (i.i.d.). It has been shown that this greatly stabilizes\n",
        "and improves the DQN training procedure."
      ]
    },
    {
      "cell_type": "code",
      "execution_count": 30,
      "metadata": {
        "id": "SoxW1Jlnk8mS"
      },
      "outputs": [],
      "source": [
        "class ExperienceReplay(object):\n",
        "      def __init__(self, length):\n",
        "        self.experience_replay = deque(maxlen=length)\n",
        "\n",
        "      def collect(self, experience):\n",
        "        self.experience_replay.append(experience)\n",
        "        return\n",
        "\n",
        "      def sample_from_experience(self, sample_size):\n",
        "        if len(self.experience_replay) < sample_size:\n",
        "            sample_size = len(self.experience_replay)\n",
        "        sample = random.sample(self.experience_replay, sample_size)\n",
        "        state = torch.tensor([exp[0] for exp in sample]).float()\n",
        "        action = torch.tensor([exp[1] for exp in sample]).float()\n",
        "        reward = torch.tensor([exp[2] for exp in sample]).float()\n",
        "        next_state = torch.tensor([exp[3] for exp in sample]).float()\n",
        "        return state, action, reward, next_state\n"
      ]
    },
    {
      "cell_type": "markdown",
      "metadata": {
        "id": "CgXwmV2im4Sx"
      },
      "source": [
        "## Build our DQN Network\n",
        "\n",
        "We will use a simple multi-layer neural network to learn the optimal actions. We will use Adam Optimizor and MSE loss for training. **Notice that the loss function and gamma is given to you in the class attribute.** "
      ]
    },
    {
      "cell_type": "code",
      "execution_count": 31,
      "metadata": {
        "id": "Wmd1pfuRm7MQ"
      },
      "outputs": [],
      "source": [
        "class DQN_Network:\n",
        "\n",
        "    def __init__(self, layer_size_list, lr, seed=1423):\n",
        "        torch.manual_seed(seed)\n",
        "        self.policy_net = self.create_network(layer_size_list)\n",
        "        self.target_net = copy.deepcopy(self.policy_net)\n",
        "  \n",
        "        self.loss_fn = torch.nn.MSELoss() # the loss function\n",
        "        self.optimizer = torch.optim.Adam(self.policy_net.parameters(), lr=lr)\n",
        "\n",
        "        self.step = 0\n",
        "        self.gamma = torch.tensor(0.95).float()\n",
        "        return\n",
        "\n",
        "    def create_network(self, layer_size_list):\n",
        "        assert len(layer_size_list) > 1\n",
        "\n",
        "        layers = []\n",
        "        for i in range(len(layer_size_list) - 1):\n",
        "            linear = nn.Linear(layer_size_list[i], layer_size_list[i + 1])\n",
        "\n",
        "            if i < len(layer_size_list) - 2:\n",
        "              activation = nn.Tanh()\n",
        "            else:\n",
        "              activation = nn.Identity()\n",
        "\n",
        "            layers += (linear, activation)\n",
        "        return nn.Sequential(*layers)\n",
        "\n",
        "    def load_pretrained_model(self, model_path):\n",
        "        self.policy_net.load_state_dict(torch.load(model_path))\n",
        "\n",
        "    def save_trained_model(self, model_path=\"cartpole-dqn.pth\"):\n",
        "        torch.save(self.policy_net.state_dict(), model_path)\n"
      ]
    },
    {
      "cell_type": "markdown",
      "metadata": {
        "id": "xKVV16YctASm"
      },
      "source": [
        "## **[Your task]**: complete the function that chooses the next action\n",
        "\n",
        "Choose next action based on **$\\epsilon$-greedy**:\n",
        "\n",
        "\\begin{align}\\text{where} \\quad \\mathcal{a_{t+1}} = \\begin{cases}\n",
        "     \\text{argmax}_{a}Q(a, s)  & \\text{with probability }: 1 - \\epsilon, \\text{exploitation}\\\\\n",
        "     \\text{Uniform}\\{a_{1},...,a_{n}\\} & \\text{with probability}:   \\epsilon, \\text{exploration} \\\\\n",
        "   \\end{cases}\\end{align}"
      ]
    },
    {
      "cell_type": "code",
      "execution_count": 32,
      "metadata": {
        "id": "iE0gVweYs8xW"
      },
      "outputs": [],
      "source": [
        "def get_action(model, state, action_space_len, epsilon):\n",
        "    # We do not require gradient at this point, because this function will be used either\n",
        "    # during experience collection or during inference\n",
        "\n",
        "    with torch.no_grad():\n",
        "        Qp = model.policy_net(torch.from_numpy(state).float())\n",
        "\n",
        "    ## TODO: select and return action based on epsilon-greedy\n",
        "    _, maximum_action = torch.max(Qp, axis=0)\n",
        "    action  = 0\n",
        "    if torch.rand(1) > epsilon:\n",
        "      action = maximum_action\n",
        "    else:\n",
        "      action = torch.randint(0, action_space_len, (1,))\n",
        "    return action"
      ]
    },
    {
      "cell_type": "markdown",
      "metadata": {
        "id": "iF9a5-IbazjQ"
      },
      "source": [
        "### **[Your task]**: complete the function that train the network for one step\n",
        "\n",
        "Here, you can find an ``train`` function that performs a\n",
        "single step of the optimization. \n",
        "\n",
        "For our training update rule, the loss you are trying to minimize is:\n",
        "\n",
        "\\begin{align}\\text{loss} = Q(s, a) - (r + \\gamma \\max_a Q(s', a))\\end{align}"
      ]
    },
    {
      "cell_type": "code",
      "execution_count": 33,
      "metadata": {
        "id": "mtx4FAiab0Hp"
      },
      "outputs": [],
      "source": [
        "def train(model, batch_size):\n",
        "    state, action, reward, next_state = memory.sample_from_experience(sample_size=batch_size)\n",
        "\n",
        "    # TODO: predict expected return of current state using main network\n",
        "    Qp = model.policy_net(state)\n",
        "    expected_return = torch.zeros(len(action))\n",
        "    for i in range(len(action)):\n",
        "      expected_return[i] = Qp[i][int(action[i])]\n",
        "\n",
        "    # TODO: get target return using target network\n",
        "    target_return = reward + model.gamma * model.target_net(next_state).max(axis=-1)[0]\n",
        "\n",
        "    # TODO: compute the loss\n",
        "    loss = model.loss_fn(input=expected_return, target=target_return)\n",
        "    model.optimizer.zero_grad()\n",
        "    loss.backward(retain_graph=True)\n",
        "    model.optimizer.step()\n",
        "\n",
        "    model.step += 1\n",
        "    if model.step % 5 == 0:\n",
        "        model.target_net.load_state_dict(model.policy_net.state_dict())\n",
        "\n",
        "    return loss.item()"
      ]
    },
    {
      "cell_type": "markdown",
      "metadata": {
        "id": "uskoe87Uz-Jg"
      },
      "source": [
        "### **[Your task]**: Finish the training loop\n",
        "\n",
        "In this part, you can play around with ```exp_replay_size```, ```episode```, ```epsilon``` and the \"episodo decay\" logic to train your model. **If you have done correctly, you will observe that the training time for the latter episodes is longer than the early episodes. This is because your agent is getting better and better at playing the game and thus each episode takes longer**"
      ]
    },
    {
      "cell_type": "code",
      "execution_count": 41,
      "metadata": {
        "id": "3NfNnyD6SPpN",
        "colab": {
          "base_uri": "https://localhost:8080/"
        },
        "outputId": "1bd0cb3a-d4b3-4669-cbed-bcedc8f19e71"
      },
      "outputs": [
        {
          "output_type": "stream",
          "name": "stderr",
          "text": [
            "100%|██████████| 13000/13000 [03:31<00:00, 61.39it/s]"
          ]
        },
        {
          "output_type": "stream",
          "name": "stdout",
          "text": [
            "Saving trained model\n"
          ]
        },
        {
          "output_type": "stream",
          "name": "stderr",
          "text": [
            "\n"
          ]
        }
      ],
      "source": [
        "# Create the model\n",
        "env = gym.make('CartPole-v0')\n",
        "input_dim = env.observation_space.shape[0]\n",
        "output_dim = env.action_space.n\n",
        "agent = DQN_Network(layer_size_list=[input_dim, 64, output_dim], lr=1e-3)\n",
        "\n",
        "# Main training loop\n",
        "losses_list, reward_list, episode_len_list, epsilon_list = [], [], [], []\n",
        "\n",
        "# TODO: try different values, it normally takes more than 6k episodes to train\n",
        "exp_replay_size = 17000\n",
        "memory = ExperienceReplay(exp_replay_size)\n",
        "episodes = 13000\n",
        "epsilon = 1 # episilon start from 1 and decay gradually. \n",
        "\n",
        "# initiliaze experiance replay\n",
        "index = 0\n",
        "for i in range(exp_replay_size):\n",
        "    obs = env.reset()\n",
        "    done = False\n",
        "    while not done:\n",
        "        A = get_action(agent, obs, env.action_space.n, epsilon=1)\n",
        "        obs_next, reward, done, _ = env.step(A.item())\n",
        "        memory.collect([obs, A.item(), reward, obs_next])\n",
        "        obs = obs_next\n",
        "        index += 1\n",
        "        if index > exp_replay_size:\n",
        "            break\n",
        "\n",
        "index = 128\n",
        "for i in tqdm(range(episodes)):\n",
        "    obs, done, losses, ep_len, rew = env.reset(), False, 0, 0, 0\n",
        "    while not done:\n",
        "        ep_len += 1\n",
        "        A = get_action(agent, obs, env.action_space.n, epsilon)\n",
        "        obs_next, reward, done, _ = env.step(A.item())\n",
        "        memory.collect([obs, A.item(), reward, obs_next])\n",
        "\n",
        "        obs = obs_next\n",
        "        rew += reward\n",
        "        index += 1\n",
        "\n",
        "        if index > 128:\n",
        "            index = 0\n",
        "            for j in range(4):\n",
        "                loss = train(agent, batch_size=16)\n",
        "                losses += loss\n",
        "    \n",
        "    # TODO: add epsilon decay rule here! \n",
        "    epsilon = epsilon * 0.96\n",
        "    losses_list.append(losses / ep_len), reward_list.append(rew)\n",
        "    episode_len_list.append(ep_len), epsilon_list.append(epsilon)\n",
        "\n",
        "print(\"Saving trained model\")\n",
        "agent.save_trained_model(\"cartpole-dqn.pth\")"
      ]
    },
    {
      "cell_type": "markdown",
      "metadata": {
        "id": "CCow7jNXf5YT"
      },
      "source": [
        "## Last Step: evaluate your trained model! **Make sure to include your visualizations (plot+video) in the notebook for your submission!**\n",
        "\n",
        "First we can plot the reward vs. episode. **If you have done correctly, you should see the reward can stabilize at 200 in later episodes**\\"
      ]
    },
    {
      "cell_type": "code",
      "execution_count": 42,
      "metadata": {
        "id": "-Hy_FP7yeXA4",
        "colab": {
          "base_uri": "https://localhost:8080/",
          "height": 472
        },
        "outputId": "e289f5d5-549a-4223-eeb0-d492676d3dfa"
      },
      "outputs": [
        {
          "output_type": "display_data",
          "data": {
            "text/plain": [
              "<Figure size 640x480 with 1 Axes>"
            ],
            "image/png": "[encoded data removed]"
          },
          "metadata": {}
        }
      ],
      "source": [
        "def plot_reward(r):\n",
        "    plt.figure(2)\n",
        "    plt.clf()\n",
        "    plt.title('Result')\n",
        "    plt.xlabel('Episode')\n",
        "    plt.ylabel('Reward')\n",
        "    plt.plot(r)\n",
        "\n",
        "plot_reward(reward_list)"
      ]
    },
    {
      "cell_type": "markdown",
      "metadata": {
        "id": "EixOpGakoyi4"
      },
      "source": [
        "Next let check out how well your agent plays the game. **If you have done correctly, you should see a relatively longer video (> 3~4s) with a self-balancing pole.**"
      ]
    },
    {
      "cell_type": "code",
      "execution_count": 36,
      "metadata": {
        "id": "EMEivKldTGVG",
        "colab": {
          "base_uri": "https://localhost:8080/",
          "height": 456
        },
        "outputId": "f7f7ef77-dc0f-4e6e-a44c-bf9b2e3c3c84"
      },
      "outputs": [
        {
          "output_type": "stream",
          "name": "stderr",
          "text": [
            "100%|██████████| 200/200 [00:42<00:00,  4.71it/s]"
          ]
        },
        {
          "output_type": "stream",
          "name": "stdout",
          "text": [
            "average reward per episode : 461.915\n"
          ]
        },
        {
          "output_type": "stream",
          "name": "stderr",
          "text": [
            "\n"
          ]
        },
        {
          "output_type": "display_data",
          "data": {
            "text/plain": [
              "<IPython.core.display.HTML object>"
            ],
            "text/html": [
              "<video alt=\"test\" autoplay \n",
              "                loop controls style=\"height: 400px;\">\n",
              "                <source src=\"data:video/mp4;base64,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\" type=\"video/mp4\" />\n",
              "             </video>"
            ]
          },
          "metadata": {}
        }
      ],
      "source": [
        "env = wrap_env(gym.make('CartPole-v1'))\n",
        "\n",
        "input_dim = env.observation_space.shape[0]\n",
        "output_dim = env.action_space.n\n",
        "model_validate = DQN_Network(layer_size_list=[input_dim, 64, output_dim], lr=1e-3)\n",
        "model_validate.load_pretrained_model(\"cartpole-dqn.pth\")\n",
        "\n",
        "reward_arr = []\n",
        "for i in tqdm(range(200)):\n",
        "    obs, done, rew = env.reset(), False, 0\n",
        "    env.render()\n",
        "    while not done:\n",
        "        A = get_action(model_validate, obs, env.action_space.n, epsilon=0)\n",
        "        obs, reward, done, info = env.step(A.item())\n",
        "        rew += reward\n",
        "        # sleep(0.01)\n",
        "\n",
        "    reward_arr.append(rew)\n",
        "print(\"average reward per episode :\", sum(reward_arr) / len(reward_arr))\n",
        "env.close()\n",
        "show_video()"
      ]
    },
    {
      "cell_type": "code",
      "execution_count": 36,
      "metadata": {
        "id": "VTAa6RAWTKZJ"
      },
      "outputs": [],
      "source": []
    }
  ],
  "metadata": {
    "accelerator": "GPU",
    "colab": {
      "provenance": [],
      "toc_visible": true
    },
    "kernelspec": {
      "display_name": "Python 3 (ipykernel)",
      "language": "python",
      "name": "python3"
    },
    "language_info": {
      "codemirror_mode": {
        "name": "ipython",
        "version": 3
      },
      "file_extension": ".py",
      "mimetype": "text/x-python",
      "name": "python",
      "nbconvert_exporter": "python",
      "pygments_lexer": "ipython3",
      "version": "3.7.13"
    }
  },
  "nbformat": 4,
  "nbformat_minor": 0
}