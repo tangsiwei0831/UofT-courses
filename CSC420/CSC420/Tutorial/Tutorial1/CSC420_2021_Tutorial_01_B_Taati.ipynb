{
  "nbformat": 4,
  "nbformat_minor": 0,
  "metadata": {
    "colab": {
      "name": "CSC420_2021_Tutorial_01_B.Taati.ipynb",
      "provenance": [],
      "collapsed_sections": []
    },
    "kernelspec": {
      "name": "python3",
      "display_name": "Python 3"
    },
    "accelerator": "TPU"
  },
  "cells": [
    {
      "cell_type": "markdown",
      "metadata": {
        "id": "sRevpOVFhbJ8"
      },
      "source": [
        "#Tutorial 1\n",
        "\n",
        "#CSC420 - Fall 2021\n",
        "\n",
        "#Babak Taati"
      ]
    },
    {
      "cell_type": "code",
      "metadata": {
        "id": "1GNN2Hynhb4Y"
      },
      "source": [
        "# Load the Drive helper and mount\n",
        "from google.colab import drive\n",
        "\n",
        "# This will prompt for authorization.\n",
        "\n",
        "drive.mount('/content/drive')"
      ],
      "execution_count": null,
      "outputs": []
    },
    {
      "cell_type": "code",
      "metadata": {
        "id": "JIVhh03-P1N5"
      },
      "source": [
        "# After executing the cell above, Drive\n",
        "# files will be present in \"/content/drive/My Drive\".\n",
        "!ls \"/content/drive/My Drive/Colab Notebooks\""
      ],
      "execution_count": null,
      "outputs": []
    },
    {
      "cell_type": "markdown",
      "metadata": {
        "id": "GEDZsknffkrv"
      },
      "source": [
        "**numpy / PIL**"
      ]
    },
    {
      "cell_type": "code",
      "metadata": {
        "id": "hWLjLrVmfOdo"
      },
      "source": [
        "import numpy as np\n",
        "import matplotlib.pyplot as plt\n",
        "from PIL import Image"
      ],
      "execution_count": null,
      "outputs": []
    },
    {
      "cell_type": "code",
      "metadata": {
        "id": "tOZ-JlIffVeV"
      },
      "source": [
        "I = Image.open(\"/content/drive/My Drive/CavePainting.jpg\")\n",
        "type(I)"
      ],
      "execution_count": null,
      "outputs": []
    },
    {
      "cell_type": "code",
      "metadata": {
        "id": "Z08jeRGKffOl"
      },
      "source": [
        "im = np.array(I)\n",
        "type(im)"
      ],
      "execution_count": null,
      "outputs": []
    },
    {
      "cell_type": "code",
      "metadata": {
        "id": "u3-g9_jpfgzk"
      },
      "source": [
        "plt.imshow(im)"
      ],
      "execution_count": null,
      "outputs": []
    },
    {
      "cell_type": "code",
      "metadata": {
        "id": "K1QEWhMTf1t3"
      },
      "source": [
        "im.shape"
      ],
      "execution_count": null,
      "outputs": []
    },
    {
      "cell_type": "code",
      "metadata": {
        "id": "UxN56fuSf5BP"
      },
      "source": [
        "plt.imshow(im[:,:,1])\n",
        "# what happened? "
      ],
      "execution_count": null,
      "outputs": []
    },
    {
      "cell_type": "code",
      "metadata": {
        "id": "b-jdIAz8f-cu"
      },
      "source": [
        "plt.imshow(im[:,:,1],cmap='gray')\n",
        "plt.xticks([]), plt.yticks([])"
      ],
      "execution_count": null,
      "outputs": []
    },
    {
      "cell_type": "code",
      "metadata": {
        "id": "N81IZBKbgC3A"
      },
      "source": [
        "im_r = im.copy()\n",
        "im_r[:,:,1:3]=0\n",
        "plt.imshow(im_r)\n",
        "plt.xticks([]), plt.yticks([])"
      ],
      "execution_count": null,
      "outputs": []
    },
    {
      "cell_type": "code",
      "metadata": {
        "id": "-F3gIHsCgC-j"
      },
      "source": [
        "fig, ax = plt.subplots(1,3)\n",
        "#fig.suptitle('RGB channels', fontsize=20)\n",
        "for c in [0,1,2]:\n",
        "    im_c = np.zeros(im.shape,dtype=int)\n",
        "    im_c[:,:,c] = im[:,:,c]\n",
        "    ax[c].imshow(im_c)"
      ],
      "execution_count": null,
      "outputs": []
    },
    {
      "cell_type": "code",
      "metadata": {
        "id": "5WuSy_55gDCk"
      },
      "source": [
        "# larger figures\n",
        "fig = plt.figure(figsize=(20,16))\n",
        "ax1 = fig.add_subplot(131)\n",
        "ax2 = fig.add_subplot(132)\n",
        "ax3 = fig.add_subplot(133)\n",
        "\n",
        "im_r = im.copy()\n",
        "im_r[:,:,1:3]=0\n",
        "ax1.imshow(im_r)\n",
        "ax1.set_xticks([]), ax1.set_yticks([])\n",
        "\n",
        "im_g = im.copy()\n",
        "im_g[:,:,0]=0\n",
        "im_g[:,:,2]=0\n",
        "ax2.imshow(im_g)\n",
        "ax2.set_xticks([]), ax2.set_yticks([])\n",
        "\n",
        "im_b = im.copy()\n",
        "im_b[:,:,0:2]=0\n",
        "ax3.imshow(im_b)\n",
        "ax3.set_xticks([]), ax3.set_yticks([])"
      ],
      "execution_count": null,
      "outputs": []
    },
    {
      "cell_type": "code",
      "metadata": {
        "id": "5cXgkHb5gDGH"
      },
      "source": [
        "plt.imshow(im)\n",
        "plt.xticks([]), plt.yticks([])"
      ],
      "execution_count": null,
      "outputs": []
    },
    {
      "cell_type": "markdown",
      "metadata": {
        "id": "7-mzmPMPfoYI"
      },
      "source": [
        "**OpenCV**"
      ]
    },
    {
      "cell_type": "code",
      "metadata": {
        "id": "Q1exTeIU3TyW"
      },
      "source": [
        "# install OpenCV\n",
        "!pip install opencv-python\n",
        "import cv2"
      ],
      "execution_count": null,
      "outputs": []
    },
    {
      "cell_type": "code",
      "metadata": {
        "id": "DDlpP1MVOXAe"
      },
      "source": [
        "# read an image (warning: if file or path doesn't exist you don't get an error msg)\n",
        "img = cv2.imread('blahbla.jpg') "
      ],
      "execution_count": null,
      "outputs": []
    },
    {
      "cell_type": "code",
      "metadata": {
        "id": "eiVDvjahOlRK"
      },
      "source": [
        "type(img)"
      ],
      "execution_count": null,
      "outputs": []
    },
    {
      "cell_type": "code",
      "metadata": {
        "id": "1zdSDeAp3XbJ"
      },
      "source": [
        "# read an image (make sure CavePainting.jpg is in the main folder in your Google Drive)\n",
        "img = cv2.imread('/content/drive/My Drive/CavePainting.jpg') # READS IN NUMPY ARRAY"
      ],
      "execution_count": null,
      "outputs": []
    },
    {
      "cell_type": "code",
      "metadata": {
        "id": "KKXImd3x3dxI"
      },
      "source": [
        "whos"
      ],
      "execution_count": null,
      "outputs": []
    },
    {
      "cell_type": "code",
      "metadata": {
        "id": "dVAPUGW53fKg"
      },
      "source": [
        "# not in colab\n",
        "# cv2.imshow('image',img)\n",
        "# cv2.waitKey(0)\n",
        "# cv2.destroyAllWindows()"
      ],
      "execution_count": null,
      "outputs": []
    },
    {
      "cell_type": "code",
      "metadata": {
        "id": "Me4Ovfld300i"
      },
      "source": [
        "# display the image\n",
        "h,w = img.shape[:2]\n",
        "print(img.shape)\n",
        "plt.imshow(img,cmap='gray')\n",
        "plt.show()\n",
        "# what happened?"
      ],
      "execution_count": null,
      "outputs": []
    },
    {
      "cell_type": "code",
      "metadata": {
        "id": "kd4x1CrM4WGK"
      },
      "source": [
        "# BGR <--> RGB\n",
        "img2 = cv2.cvtColor(img, cv2.COLOR_BGR2RGB)\n",
        "plt.imshow(img2)\n",
        "plt.xticks([]), plt.yticks([])"
      ],
      "execution_count": null,
      "outputs": []
    },
    {
      "cell_type": "markdown",
      "metadata": {
        "id": "RPKK1nUwXo2c"
      },
      "source": [
        "or: \n",
        "\n",
        "\n",
        "```\n",
        "from google.colab.patches import cv2_imshow # replacement for cv2.imshow for colab  // meh ...\n",
        "cv2_imshow(img)\n",
        "```\n",
        "\n",
        "\n"
      ]
    },
    {
      "cell_type": "code",
      "metadata": {
        "id": "cCS5PDEaWjYB"
      },
      "source": [
        "gray = cv2.cvtColor(img, cv2.COLOR_BGR2GRAY)\n",
        "plt.imshow(gray,cmap='gray')\n",
        "plt.xticks([]), plt.yticks([])"
      ],
      "execution_count": null,
      "outputs": []
    },
    {
      "cell_type": "code",
      "metadata": {
        "id": "ET60wA6ZZcQj"
      },
      "source": [
        "hist = cv2.calcHist([gray],[0],None,[256],[0,256])\n",
        "plt.plot(hist)"
      ],
      "execution_count": null,
      "outputs": []
    },
    {
      "cell_type": "code",
      "metadata": {
        "id": "T4axusicwYop"
      },
      "source": [
        "# histogram equalization \n",
        "equ = cv2.equalizeHist(gray)\n",
        "\n",
        "fig = plt.figure(figsize=(20,5))\n",
        "ax1 = fig.add_subplot(121)\n",
        "plt.imshow(equ, cmap='gray')\n",
        "\n",
        "ax2 = fig.add_subplot(122)\n",
        "hist = cv2.calcHist([equ],channels=[0],mask=None,histSize=[256],ranges=[0,256])\n",
        "plt.plot(hist)\n",
        "#plt.plot(hist, 'b.')"
      ],
      "execution_count": null,
      "outputs": []
    },
    {
      "cell_type": "code",
      "metadata": {
        "id": "k6Iv0PplJosm"
      },
      "source": [
        "fig = plt.figure(figsize=(10,10))\n",
        "ax1 = fig.add_subplot(311)\n",
        "ax2 = fig.add_subplot(312)\n",
        "ax3 = fig.add_subplot(313)\n",
        "hist = cv2.calcHist([img],channels=[0],mask=None,histSize=[256],ranges=[0,256]) # make sure you put [img] not img\n",
        "ax1.plot(hist), ax1.set_title('blue')\n",
        "hist = cv2.calcHist([img],channels=[1],mask=None,histSize=[256],ranges=[0,256]) # make sure you put [img] not img\n",
        "ax2.plot(hist), ax2.set_title('green')\n",
        "hist = cv2.calcHist([img],channels=[2],mask=None,histSize=[256],ranges=[0,256]) # make sure you put [img] not img\n",
        "ax3.plot(hist), ax3.set_title('red')"
      ],
      "execution_count": null,
      "outputs": []
    },
    {
      "cell_type": "code",
      "metadata": {
        "id": "bSZ5nJJIm92O"
      },
      "source": [
        "# same thing, but colour-coded\n",
        "\n",
        "fig = plt.figure(figsize=(20,5))\n",
        "ax1 = fig.add_subplot(121)\n",
        "plt.imshow(img2)\n",
        "\n",
        "ax2 = fig.add_subplot(122)\n",
        "hist = cv2.calcHist([img],channels=[0],mask=None,histSize=[256],ranges=[0,256])\n",
        "plt.plot(hist, color='b')\n",
        "hist = cv2.calcHist([img],channels=[1],mask=None,histSize=[256],ranges=[0,256])\n",
        "plt.plot(hist, color='g')\n",
        "hist = cv2.calcHist([img],channels=[2],mask=None,histSize=[256],ranges=[0,256])\n",
        "plt.plot(hist, color='r')\n",
        "\n"
      ],
      "execution_count": null,
      "outputs": []
    },
    {
      "cell_type": "code",
      "metadata": {
        "id": "Kz61f8sDkQtR"
      },
      "source": [
        "# histogram of an image mask\n",
        "mask = np.zeros(img.shape[:2], np.uint8)\n",
        "mask[200:350,40:250] = 255 # around the white cow\n",
        "\n",
        "fig = plt.figure(figsize=(20,5))\n",
        "ax1 = fig.add_subplot(121)\n",
        "masked_img = cv2.bitwise_and(img,img,mask=mask) # just for showing. we don't need this. \n",
        "plt.imshow(cv2.cvtColor(masked_img, cv2.COLOR_BGR2RGB))\n",
        "plt.axis('off')\n",
        "\n",
        "ax2 = fig.add_subplot(122)\n",
        "hist = cv2.calcHist([img],channels=[0],mask=mask,histSize=[256],ranges=[0,256])\n",
        "plt.plot(hist, color='b')\n",
        "hist = cv2.calcHist([img],channels=[1],mask=mask,histSize=[256],ranges=[0,256])\n",
        "plt.plot(hist, color='g')\n",
        "hist = cv2.calcHist([img],channels=[2],mask=mask,histSize=[256],ranges=[0,256])\n",
        "plt.plot(hist, color='r')"
      ],
      "execution_count": null,
      "outputs": []
    },
    {
      "cell_type": "code",
      "metadata": {
        "id": "wrAD2lGEnwAs"
      },
      "source": [
        "# histogram equalization of color image \n",
        "equ = img.copy()\n",
        "# equ[:,:,0] = cv2.equalizeHist(equ[:,:,0]) \n",
        "equ[:,:,1] = cv2.equalizeHist(equ[:,:,1]) \n",
        "# equ[:,:,2] = cv2.equalizeHist(equ[:,:,2]) \n",
        "\n",
        "fig = plt.figure(figsize=(20,5))\n",
        "ax1 = fig.add_subplot(121)\n",
        "plt.imshow(cv2.cvtColor(equ, cv2.COLOR_BGR2RGB))\n",
        "plt.axis('off')\n",
        "\n",
        "\n",
        "ax2 = fig.add_subplot(122)\n",
        "hist = cv2.calcHist([equ],channels=[0],mask=None,histSize=[256],ranges=[0,256])\n",
        "plt.plot(hist, color='b')\n",
        "hist = cv2.calcHist([equ],channels=[1],mask=None,histSize=[256],ranges=[0,256])\n",
        "plt.plot(hist, color='g')\n",
        "hist = cv2.calcHist([equ],channels=[2],mask=None,histSize=[256],ranges=[0,256])\n",
        "plt.plot(hist, color='r')\n"
      ],
      "execution_count": null,
      "outputs": []
    },
    {
      "cell_type": "code",
      "metadata": {
        "id": "3Z9aFgHn08nc"
      },
      "source": [
        "# histogram equalization of color image, another way \n",
        "hsv = cv2.cvtColor(img, cv2.COLOR_BGR2HSV) # convert to HSV colour space\n",
        "hsv[:,:,2] = cv2.equalizeHist(hsv[:,:,2]) # histogram equalize the VALUE channel\n",
        "equ = cv2.cvtColor(hsv, cv2.COLOR_HSV2RGB)\n",
        "\n",
        "\n",
        "fig = plt.figure(figsize=(20,5))\n",
        "ax1 = fig.add_subplot(121)\n",
        "plt.imshow(equ)\n",
        "plt.axis('off')\n",
        "\n",
        "\n",
        "ax2 = fig.add_subplot(122)\n",
        "hist = cv2.calcHist([equ],channels=[0],mask=None,histSize=[256],ranges=[0,256])\n",
        "plt.plot(hist, color='b')\n",
        "hist = cv2.calcHist([equ],channels=[1],mask=None,histSize=[256],ranges=[0,256])\n",
        "plt.plot(hist, color='g')\n",
        "hist = cv2.calcHist([equ],channels=[2],mask=None,histSize=[256],ranges=[0,256])\n",
        "plt.plot(hist, color='r')"
      ],
      "execution_count": null,
      "outputs": []
    },
    {
      "cell_type": "code",
      "metadata": {
        "id": "qUNKOTOa4xbu"
      },
      "source": [
        "# let's make a function\n",
        "def imshowBGR2RGB( im ):\n",
        "  img = cv2.cvtColor(im, cv2.COLOR_BGR2RGB)\n",
        "  plt.imshow(img)\n",
        "  plt.axis('off')\n",
        "  return"
      ],
      "execution_count": null,
      "outputs": []
    },
    {
      "cell_type": "code",
      "metadata": {
        "id": "CrRtRkCQlqzF"
      },
      "source": [
        "imshowBGR2RGB(img)"
      ],
      "execution_count": null,
      "outputs": []
    },
    {
      "cell_type": "code",
      "metadata": {
        "id": "ouYnuGMUmUdF"
      },
      "source": [
        "# scaling \n",
        "rows, cols = img.shape[:2]\n",
        "res = cv2.resize(img, (2*cols, 2*rows), interpolation = cv2.INTER_CUBIC) # or INTER_LINEAR\n",
        "imshowBGR2RGB(res)\n",
        "# what happened?"
      ],
      "execution_count": null,
      "outputs": []
    },
    {
      "cell_type": "code",
      "metadata": {
        "id": "B6fXT5d0Jn4d"
      },
      "source": [
        "# whos"
      ],
      "execution_count": null,
      "outputs": []
    },
    {
      "cell_type": "code",
      "metadata": {
        "id": "T1z9dMtYH0eW"
      },
      "source": [
        "print(img.shape)\n",
        "print(res.shape)"
      ],
      "execution_count": null,
      "outputs": []
    },
    {
      "cell_type": "code",
      "metadata": {
        "id": "h9YeYWwbmm9U"
      },
      "source": [
        "# scaling \n",
        "res = cv2.resize(img,(400, 150), interpolation = cv2.INTER_AREA) # when reducing image size INTER_AREA can be faster\n",
        "# note that in numpy arrays the first number is the # rows, in OpenCV it's the number of columns\n",
        "imshowBGR2RGB(res)"
      ],
      "execution_count": null,
      "outputs": []
    },
    {
      "cell_type": "code",
      "metadata": {
        "id": "9DqsfImhckuy"
      },
      "source": [
        "# flip\n",
        "flip = cv2.flip(img, 0) # or 1\n",
        "imshowBGR2RGB(flip)"
      ],
      "execution_count": null,
      "outputs": []
    },
    {
      "cell_type": "code",
      "metadata": {
        "id": "UZKtwTnTnIDk"
      },
      "source": [
        "# rotate (centre, angle, scale)\n",
        "M = cv2.getRotationMatrix2D((100, 120), -15, .7)\n",
        "dst = cv2.warpAffine(img, M, (cols,rows))\n",
        "imshowBGR2RGB(dst)"
      ],
      "execution_count": null,
      "outputs": []
    },
    {
      "cell_type": "code",
      "metadata": {
        "id": "Fx7nShEpoDTV"
      },
      "source": [
        "# affine transformation\n",
        "pts1 = np.float32([[5,5],[5,50],[50,5]])\n",
        "pts2 = np.float32([[10,3],[20,30],[40,6]])\n",
        "\n",
        "M = cv2.getAffineTransform(pts1,pts2)\n",
        "\n",
        "dst = cv2.warpAffine(img,M,(cols,rows))\n",
        "\n",
        "imshowBGR2RGB(dst)"
      ],
      "execution_count": null,
      "outputs": []
    },
    {
      "cell_type": "code",
      "metadata": {
        "id": "kSXsttwF7a_B"
      },
      "source": [
        "# perspective transformation\n",
        "\n",
        "# getPerspectiveTransform\n",
        "\n",
        "# how many point matches do we need?"
      ],
      "execution_count": null,
      "outputs": []
    },
    {
      "cell_type": "code",
      "metadata": {
        "id": "Jd7zQR-x8Dz-"
      },
      "source": [
        "# averaging\n",
        "\n",
        "kernel = np.ones((7,7),np.float32)/49\n",
        "dst = cv2.filter2D(img,-1,kernel)\n",
        "\n",
        "imshowBGR2RGB(dst)"
      ],
      "execution_count": null,
      "outputs": []
    },
    {
      "cell_type": "code",
      "metadata": {
        "id": "5VL7q7dVY-qy"
      },
      "source": [
        "kernel"
      ],
      "execution_count": null,
      "outputs": []
    },
    {
      "cell_type": "code",
      "metadata": {
        "id": "V47bCuBU8Ye9"
      },
      "source": [
        "# compare with the original\n",
        "imshowBGR2RGB(img)"
      ],
      "execution_count": null,
      "outputs": []
    },
    {
      "cell_type": "code",
      "metadata": {
        "id": "9AahIlAO8ucm"
      },
      "source": [
        "# larger window\n",
        "kernel = np.ones((15,15),np.float32)/225\n",
        "dst = cv2.filter2D(img,-1,kernel)\n",
        "\n",
        "imshowBGR2RGB(dst)"
      ],
      "execution_count": null,
      "outputs": []
    },
    {
      "cell_type": "code",
      "metadata": {
        "id": "_qIJiSS4ZWN7"
      },
      "source": [
        "# cv2.blur does the exact same thing\n",
        "dst = cv2.blur(img,ksize=(15,15))\n",
        "imshowBGR2RGB(dst)"
      ],
      "execution_count": null,
      "outputs": []
    },
    {
      "cell_type": "code",
      "metadata": {
        "id": "3WDnrq7lWBNS"
      },
      "source": [
        "# Gaussian blur\n",
        "kernel = cv2.getGaussianKernel(15, 5)\n",
        "\n",
        "dst = cv2.filter2D(img,-1,kernel)\n",
        "\n",
        "imshowBGR2RGB(dst)\n",
        "\n",
        "# alternative: GaussianBlur(img,(15,15),20) "
      ],
      "execution_count": null,
      "outputs": []
    },
    {
      "cell_type": "code",
      "metadata": {
        "id": "miF-qIqC8yXG"
      },
      "source": [
        "median = cv2.medianBlur(img, 7)\n",
        "imshowBGR2RGB(median)"
      ],
      "execution_count": null,
      "outputs": []
    },
    {
      "cell_type": "code",
      "metadata": {
        "id": "3IwuM5Rlb2fJ"
      },
      "source": [
        "# salt and pepper noise\n",
        "noisy_img = img.copy() # what happens if we say noisy_img = img?\n",
        "# salt\n",
        "R = np.random.rand(img.shape[0], img.shape[1], img.shape[2]) > 0.70\n",
        "noisy_img[R] = 255\n",
        "# pepper\n",
        "R = np.random.rand(img.shape[0], img.shape[1], img.shape[2]) > 0.70\n",
        "noisy_img[R] = 0\n",
        "imshowBGR2RGB(noisy_img)"
      ],
      "execution_count": null,
      "outputs": []
    },
    {
      "cell_type": "code",
      "metadata": {
        "id": "5s_SHXk-d8S1"
      },
      "source": [
        "median = cv2.medianBlur(noisy_img, 7)\n",
        "imshowBGR2RGB(median)"
      ],
      "execution_count": null,
      "outputs": []
    },
    {
      "cell_type": "code",
      "metadata": {
        "id": "horo4wy2eNH2"
      },
      "source": [
        "G = cv2.GaussianBlur(noisy_img, (7,7), sigmaX=10)\n",
        "imshowBGR2RGB(G)\n"
      ],
      "execution_count": null,
      "outputs": []
    },
    {
      "cell_type": "code",
      "metadata": {
        "id": "GUs4_mLG9fEg"
      },
      "source": [
        "blur = cv2.bilateralFilter(img,30,40,75) \n",
        "imshowBGR2RGB(blur)"
      ],
      "execution_count": null,
      "outputs": []
    },
    {
      "cell_type": "code",
      "metadata": {
        "id": "mDd20WyZezQO"
      },
      "source": [
        "blur = cv2.bilateralFilter(blur,30,15,75)\n",
        "blur = cv2.bilateralFilter(blur,30,15,75)\n",
        "blur = cv2.bilateralFilter(blur,30,15,75)\n",
        "blur = cv2.bilateralFilter(blur,30,15,75) \n",
        "imshowBGR2RGB(blur)"
      ],
      "execution_count": null,
      "outputs": []
    },
    {
      "cell_type": "markdown",
      "metadata": {
        "id": "K45ZG9_uvVoS"
      },
      "source": [
        "**draw rectangle, circle, ...**"
      ]
    },
    {
      "cell_type": "code",
      "metadata": {
        "id": "NU_gU6JUvUvj"
      },
      "source": [
        "img = np.zeros(shape=(1080,1920,3),dtype=np.int16)\n",
        "plt.imshow(img)"
      ],
      "execution_count": null,
      "outputs": []
    },
    {
      "cell_type": "code",
      "metadata": {
        "id": "Q9vMDVBTtKpp"
      },
      "source": [
        "cv2.rectangle(img,pt1=(850,850),pt2=(950,1050),color=(255,255,100),thickness=-1);\n",
        "plt.imshow(img)\n",
        "# what's another way of doing this?"
      ],
      "execution_count": null,
      "outputs": []
    },
    {
      "cell_type": "code",
      "metadata": {
        "id": "DMFm9XkItSBZ"
      },
      "source": [
        "img[80:130,30:400,:]=255\n",
        "plt.imshow(img)"
      ],
      "execution_count": null,
      "outputs": []
    },
    {
      "cell_type": "code",
      "metadata": {
        "id": "g3_6rdRdwUwO"
      },
      "source": [
        "cv2.circle(img, center=(850,550), radius=400, color=(50,150,255), thickness=30);\n",
        "cv2.line(img,pt1=(1500,10),pt2=(80,900),color=(50, 200, 255),thickness=50)\n",
        "cv2.rectangle(img,pt1=(200,300),pt2=(1800,650),color=(200,255,0),thickness=40);\n",
        "plt.imshow(img)"
      ],
      "execution_count": null,
      "outputs": []
    },
    {
      "cell_type": "code",
      "metadata": {
        "id": "S7W4sbvM7CLy"
      },
      "source": [
        "pts = np.array([[825, 20], \n",
        "                [800, 400], \n",
        "                [640, 500], \n",
        "                [440, 139], \n",
        "                [236, 300], \n",
        "                [30, 30]], \n",
        "               np.int32)\n",
        "  \n",
        "pts = pts.reshape((-1, 1, 2))\n",
        "cv2.polylines(img,[pts],isClosed=True,color=(255,255,0),thickness=5)\n",
        "# also try fillPoly\n",
        "plt.imshow(img)"
      ],
      "execution_count": null,
      "outputs": []
    },
    {
      "cell_type": "code",
      "metadata": {
        "id": "MLUmiynryMx4"
      },
      "source": [
        "img = cv2.imread('/content/drive/My Drive/CavePainting.jpg') # READS IN NUMPY ARRAY\n",
        "img2 = img.copy()\n",
        "cv2.rectangle(img2,pt1=(40,200),pt2=(250,350),color=(100,0,0),thickness=10);\n",
        "cv2.putText(img2,text='Cow',org=(80,180), fontFace=cv2.FONT_HERSHEY_SIMPLEX, fontScale= 2,color=(0,0,0),thickness=4)\n",
        "imshowBGR2RGB(img2)"
      ],
      "execution_count": null,
      "outputs": []
    },
    {
      "cell_type": "markdown",
      "metadata": {
        "id": "wskfBccDJB5d"
      },
      "source": [
        "# Template Matching"
      ]
    },
    {
      "cell_type": "code",
      "metadata": {
        "id": "26i7AVNOI9Mx"
      },
      "source": [
        "gray = cv2.cvtColor(img, cv2.COLOR_BGR2GRAY)\n",
        "white_cow = gray[200:350,40:250]"
      ],
      "execution_count": null,
      "outputs": []
    },
    {
      "cell_type": "code",
      "metadata": {
        "id": "3-EWyFzTJIzi"
      },
      "source": [
        "fig = plt.figure(figsize=(20,16))\n",
        "ax1 = fig.add_subplot(121)\n",
        "ax2 = fig.add_subplot(122)\n",
        "\n",
        "ax1.imshow(gray, cmap='gray')\n",
        "ax2.imshow(white_cow, cmap='gray')\n"
      ],
      "execution_count": null,
      "outputs": []
    },
    {
      "cell_type": "code",
      "metadata": {
        "id": "e33nF1lRJpfK"
      },
      "source": [
        "print(gray.shape)\n",
        "print(white_cow.shape)"
      ],
      "execution_count": null,
      "outputs": []
    },
    {
      "cell_type": "code",
      "metadata": {
        "id": "J5y-u8RULIv5"
      },
      "source": [
        "result = cv2.matchTemplate(gray,white_cow,method=cv2.TM_CCOEFF) \n",
        "# other possible methods: https://docs.opencv.org/3.4/de/da9/tutorial_template_matching.html\n",
        "plt.imshow(result,cmap='gray')"
      ],
      "execution_count": null,
      "outputs": []
    },
    {
      "cell_type": "code",
      "metadata": {
        "id": "vJUpzNPeWWhg"
      },
      "source": [
        "minVal, maxVal, minLoc, maxLoc = cv2.minMaxLoc(result)\n",
        "img_display = gray.copy()\n",
        "cv2.rectangle(img_display, maxLoc, (maxLoc[0] + white_cow.shape[1], maxLoc[1] + white_cow.shape[0]), color=(0,0,0), thickness=5)\n",
        "plt.imshow(img_display,cmap='gray')\n",
        "plt.axis('off')"
      ],
      "execution_count": null,
      "outputs": []
    },
    {
      "cell_type": "code",
      "metadata": {
        "id": "GsODApymW2-8"
      },
      "source": [
        "# let's try another method\n",
        "result = cv2.matchTemplate(gray,white_cow,method=cv2.TM_CCORR) # cross correlation\n",
        "minVal, maxVal, minLoc, maxLoc = cv2.minMaxLoc(result)\n",
        "img_display = gray.copy()\n",
        "cv2.rectangle(img_display, maxLoc, (maxLoc[0] + white_cow.shape[1], maxLoc[1] + white_cow.shape[0]), color=(0,0,0), thickness=5)\n",
        "plt.imshow(img_display,cmap='gray')\n",
        "plt.axis('off')\n",
        "\n",
        "# can you explain why?"
      ],
      "execution_count": null,
      "outputs": []
    }
  ]
}