{
  "nbformat": 4,
  "nbformat_minor": 0,
  "metadata": {
    "colab": {
      "name": "CSC420_2021_Tutorial_02_B.Taati.ipynb",
      "provenance": [],
      "collapsed_sections": []
    },
    "kernelspec": {
      "name": "python3",
      "display_name": "Python 3"
    },
    "accelerator": "TPU"
  },
  "cells": [
    {
      "cell_type": "markdown",
      "metadata": {
        "id": "sRevpOVFhbJ8"
      },
      "source": [
        "#Tutorial 2\n",
        "\n",
        "#CSC420 - Fall 2021\n",
        "\n",
        "#Babak Taati"
      ]
    },
    {
      "cell_type": "code",
      "metadata": {
        "id": "1GNN2Hynhb4Y"
      },
      "source": [
        "from google.colab import drive\n",
        "# This will prompt for authorization.\n",
        "drive.mount('/content/drive')"
      ],
      "execution_count": null,
      "outputs": []
    },
    {
      "cell_type": "code",
      "metadata": {
        "id": "hWLjLrVmfOdo"
      },
      "source": [
        "import numpy as np\n",
        "import matplotlib.pyplot as plt\n",
        "from PIL import Image"
      ],
      "execution_count": null,
      "outputs": []
    },
    {
      "cell_type": "code",
      "metadata": {
        "id": "Q1exTeIU3TyW"
      },
      "source": [
        "# install OpenCV\n",
        "!pip install opencv-python\n",
        "import cv2"
      ],
      "execution_count": null,
      "outputs": []
    },
    {
      "cell_type": "markdown",
      "metadata": {
        "id": "0I_nEd7KvRhT"
      },
      "source": [
        "#**image gradients**"
      ]
    },
    {
      "cell_type": "code",
      "metadata": {
        "id": "WjH9TECdRAnx"
      },
      "source": [
        "# image gradients\n",
        "img = cv2.imread('/content/drive/My Drive/window.jpg') # READS IN NUMPY ARRAY\n",
        "gray = cv2.cvtColor(img, cv2.COLOR_BGR2GRAY)\n",
        "laplacian = cv2.Laplacian(gray, cv2.CV_64F)\n",
        "\n",
        "fig = plt.figure(figsize=(15,15))\n",
        "ax1 = fig.add_subplot(121)\n",
        "ax2 = fig.add_subplot(122)\n",
        "\n",
        "ax1.imshow(gray,cmap = 'gray')\n",
        "ax1.title.set_text('Original'), ax1.set_xticks([]), ax1.set_yticks([])\n",
        "ax2.imshow(laplacian,cmap = 'gray')\n",
        "ax2.title.set_text('Laplacian'), ax2.set_xticks([]), ax2.set_yticks([])"
      ],
      "execution_count": null,
      "outputs": []
    },
    {
      "cell_type": "code",
      "metadata": {
        "id": "3DiC0D6hL_wr"
      },
      "source": [
        "plt.figure(figsize=(7,7))\n",
        "#median = cv2.medianBlur(gray, 5)\n",
        "blur = cv2.GaussianBlur(gray,(5,5),1)\n",
        "plt.imshow(blur, cmap = 'gray')\n",
        "plt.xticks([]), plt.yticks([])\n"
      ],
      "execution_count": null,
      "outputs": []
    },
    {
      "cell_type": "code",
      "metadata": {
        "id": "b8NzOLJJLLhq"
      },
      "source": [
        "# smooth first, then Laplacian\n",
        "\n",
        "laplacian = cv2.Laplacian(blur, cv2.CV_64F)\n",
        "\n",
        "fig = plt.figure(figsize=(15,15))\n",
        "ax1 = fig.add_subplot(121)\n",
        "ax2 = fig.add_subplot(122)\n",
        "\n",
        "\n",
        "ax1.imshow(gray,cmap = 'gray')\n",
        "ax1.title.set_text('Original'), ax1.set_xticks([]), ax1.set_yticks([])\n",
        "ax2.imshow(laplacian,cmap = 'gray')\n",
        "ax2.title.set_text('Laplacian'), ax2.set_xticks([]), ax2.set_yticks([])"
      ],
      "execution_count": null,
      "outputs": []
    },
    {
      "cell_type": "code",
      "metadata": {
        "id": "1fNcNHQgrHma"
      },
      "source": [
        "# same thing (or is it?!)\n",
        "\n",
        "L = [[0,1,0],[1,-4,1],[0,1,0]]\n",
        "L = np.asanyarray(L, np.float32)\n",
        "print(L)\n",
        "\n",
        "dst = cv2.filter2D(blur,-1,kernel=L)\n",
        "\n",
        "plt.figure(figsize=(7,7))\n",
        "plt.imshow(dst, cmap = 'gray')\n",
        "plt.xticks([]), plt.yticks([])"
      ],
      "execution_count": null,
      "outputs": []
    },
    {
      "cell_type": "code",
      "metadata": {
        "id": "CWjz7OiZv0M9"
      },
      "source": [
        "print([laplacian.min(), laplacian.max()])\n",
        "print([dst.min(), dst.max()])\n"
      ],
      "execution_count": null,
      "outputs": []
    },
    {
      "cell_type": "markdown",
      "metadata": {
        "id": "6iuc-dgYh0r_"
      },
      "source": [
        "moral of the story: if there's a function that does what you need, use that function!"
      ]
    },
    {
      "cell_type": "code",
      "metadata": {
        "id": "Ong2V1qyv5kT"
      },
      "source": [
        "whos"
      ],
      "execution_count": null,
      "outputs": []
    },
    {
      "cell_type": "code",
      "metadata": {
        "id": "iz2T2qkdxpgg"
      },
      "source": [
        "# solution:  use  ddepth=cv2.CV_64F\n",
        "\n",
        "dst = cv2.filter2D(blur,ddepth=cv2.CV_64F,kernel=L)\n",
        "\n",
        "plt.figure(figsize=(7,7))\n",
        "plt.imshow(dst, cmap = 'gray')\n",
        "plt.xticks([]), plt.yticks([])"
      ],
      "execution_count": null,
      "outputs": []
    },
    {
      "cell_type": "code",
      "metadata": {
        "id": "h2vBnPfhJ5Hr"
      },
      "source": [
        "sobelx = cv2.Sobel(blur, cv2.CV_64F, 1, 0, ksize=5)\n",
        "sobely = cv2.Sobel(blur, cv2.CV_64F, 0, 1, ksize=5)\n",
        "\n",
        "\n",
        "fig = plt.figure(figsize=(15,15))\n",
        "ax1 = fig.add_subplot(121)\n",
        "ax2 = fig.add_subplot(122)\n",
        "\n",
        "ax1.imshow(sobelx,cmap = 'gray')\n",
        "ax1.title.set_text('Sobel X'), ax1.set_xticks([]), ax1.set_yticks([])\n",
        "ax2.imshow(sobely,cmap = 'gray')\n",
        "ax2.title.set_text('Sobel Y'), ax2.set_xticks([]), ax2.set_yticks([])\n"
      ],
      "execution_count": null,
      "outputs": []
    },
    {
      "cell_type": "code",
      "metadata": {
        "id": "7JbzrVP1o-u3"
      },
      "source": [
        "blended = cv2.addWeighted(src1=sobelx,alpha=0.5,src2=sobely,beta=0.5,gamma=0)\n",
        "\n",
        "plt.figure(figsize=(7,7))\n",
        "plt.imshow(blended, cmap = 'gray')\n"
      ],
      "execution_count": null,
      "outputs": []
    },
    {
      "cell_type": "markdown",
      "metadata": {
        "id": "HZgkr6vIqE9N"
      },
      "source": [
        "notice light and dark regions (+ive & -ive)"
      ]
    },
    {
      "cell_type": "code",
      "metadata": {
        "id": "UxldPCO-SADg"
      },
      "source": [
        "#grad_mag = (sobelx**2) + (sobely**2); # gradient magnitude\n",
        "#grad_mag = abs(sobelx**1) + abs(sobely**1); # gradient \n",
        "grad_mag = cv2.addWeighted(src1=abs(sobelx**1),alpha=0.5,src2=abs(sobely**1),beta=0.5,gamma=0)\n",
        "\n",
        "plt.figure(figsize=(7,7))\n",
        "plt.imshow(grad_mag,cmap='gray')\n",
        "plt.xticks([]), plt.yticks([])"
      ],
      "execution_count": null,
      "outputs": []
    },
    {
      "cell_type": "code",
      "metadata": {
        "id": "FLLy6mC1X8EL"
      },
      "source": [
        "print([sobelx.min(), sobelx.max()])  # why? \n",
        "print([grad_mag.min(), grad_mag.max()])  # why? "
      ],
      "execution_count": null,
      "outputs": []
    },
    {
      "cell_type": "code",
      "metadata": {
        "id": "b2ehFqYdSlfF"
      },
      "source": [
        "hist,bins = np.histogram(grad_mag,3660,[0,3660])\n",
        "plt.figure(figsize=(10,5))\n",
        "plt.plot(hist)"
      ],
      "execution_count": null,
      "outputs": []
    },
    {
      "cell_type": "code",
      "metadata": {
        "id": "Hb_-xXZgitv_"
      },
      "source": [
        "plt.figure(figsize=(10,5))\n",
        "plt.plot(hist)\n",
        "plt.xlim([0,200])"
      ],
      "execution_count": null,
      "outputs": []
    },
    {
      "cell_type": "code",
      "metadata": {
        "id": "Xqx_vf49TuN6"
      },
      "source": [
        "th = grad_mag > 1000\n",
        "plt.figure(figsize=(7,7))\n",
        "plt.imshow(th, cmap='gray')\n",
        "plt.xticks([]), plt.yticks([])"
      ],
      "execution_count": null,
      "outputs": []
    },
    {
      "cell_type": "code",
      "metadata": {
        "id": "Kqs_HlkVqgMY"
      },
      "source": [
        "ret,th1 = cv2.threshold(grad_mag,1000,255,cv2.THRESH_BINARY) # try different numbers. Can you find a threshold that gets all the edges, but nothing else?\n",
        "plt.figure(figsize=(7,7))\n",
        "plt.imshow(th1, cmap='gray')\n",
        "plt.xticks([]), plt.yticks([])"
      ],
      "execution_count": null,
      "outputs": []
    },
    {
      "cell_type": "code",
      "metadata": {
        "id": "GxunpjiYKhmC"
      },
      "source": [
        "# edges (Canny)\n",
        "edges = cv2.Canny(gray, threshold1=75, threshold2=100)\n",
        "\n",
        "fig = plt.figure(figsize=(15,15))\n",
        "ax1 = fig.add_subplot(121)\n",
        "ax2 = fig.add_subplot(122)\n",
        "\n",
        "ax1.imshow(gray, cmap = 'gray')\n",
        "ax1.title.set_text('Original Image'), ax1.set_xticks([]), ax1.set_yticks([])\n",
        "ax2.imshow(edges,cmap = 'gray')\n",
        "ax2.title.set_text('Edge Image'), ax2.set_xticks([]), ax2.set_yticks([])"
      ],
      "execution_count": null,
      "outputs": []
    },
    {
      "cell_type": "markdown",
      "metadata": {
        "id": "el7VElGcA55W"
      },
      "source": [
        "**bold text**#**more:** [OpenCV Python Tutorials](https://docs.opencv.org/4.5.2/d6/d00/tutorial_py_root.html)"
      ]
    },
    {
      "cell_type": "markdown",
      "metadata": {
        "id": "yAElKlFWr6Vi"
      },
      "source": [
        "#Let's go through the ***Morphological Transformations***  tutorial \n",
        "(under ***Image Processing in OpenCV***)\n"
      ]
    },
    {
      "cell_type": "code",
      "metadata": {
        "id": "uwsto-s0r7Uo"
      },
      "source": [
        "img = np.zeros(shape=(480,640),dtype=np.int16)\n",
        "cv2.putText(img,text='T E S T - O o',org=(100,100), fontFace=cv2.FONT_HERSHEY_SIMPLEX, fontScale= 1,color=(255,255,255),thickness=4)\n",
        "cv2.putText(img,text='0 1 2 3 4 ',org=(150,200), fontFace=cv2.FONT_HERSHEY_COMPLEX, fontScale= 2,color=(255,255,255),thickness=4)\n",
        "cv2.putText(img,text='5 6 7 8 9',org=(150,300), fontFace=cv2.FONT_HERSHEY_COMPLEX, fontScale= 2,color=(255,255,255),thickness=4)\n",
        "ret, img = cv2.threshold(img, 120, 255, cv2.THRESH_BINARY)\n",
        "plt.figure(figsize=(7,7))\n",
        "plt.imshow(img, cmap='gray')"
      ],
      "execution_count": null,
      "outputs": []
    },
    {
      "cell_type": "code",
      "metadata": {
        "id": "BKpcw_u0sBjS"
      },
      "source": [
        "kernel = np.ones((3,3),np.uint8)\n",
        "erosion = cv2.erode(img,kernel,iterations = 1)\n",
        "plt.figure(figsize=(7,7))\n",
        "plt.imshow(erosion, cmap='gray')"
      ],
      "execution_count": null,
      "outputs": []
    },
    {
      "cell_type": "code",
      "metadata": {
        "id": "x34WNzmduZOk"
      },
      "source": [
        "kernel = np.ones((7,7),np.uint8)\n",
        "dilation = cv2.dilate(img,kernel,iterations = 1)\n",
        "plt.figure(figsize=(7,7))\n",
        "plt.imshow(dilation, cmap='gray')"
      ],
      "execution_count": null,
      "outputs": []
    },
    {
      "cell_type": "markdown",
      "metadata": {
        "id": "i3ou6uglWYM8"
      },
      "source": [
        "# Are morphological transformations **linear**? \n",
        "\n",
        "linear transformations is a mapping from a vector space (***V***) to another vector space (***W***)\n",
        "\n",
        " ***f: V → W***\n",
        "\n",
        "For any two vectors ***u*** and ***v*** in ***V*** and any scalar *c*\n",
        "\n",
        "\n",
        "*   ***f(u+v) = f(u) + f(v)***\n",
        "\n",
        "1.   List item\n",
        "2.   List item\n",
        "\n",
        "\n",
        "*   ***f***(*c* ***u***) = *c* ***f(u)***\n",
        "\n"
      ]
    },
    {
      "cell_type": "markdown",
      "metadata": {
        "id": "GqYlQTENwe6J"
      },
      "source": [
        "**Closing = Dilation followed by Erosion**"
      ]
    },
    {
      "cell_type": "code",
      "metadata": {
        "id": "-3LE11ChupjG"
      },
      "source": [
        "dilation = cv2.dilate(img,kernel,iterations = 1)\n",
        "close = cv2.erode(dilation,kernel,iterations = 1)\n",
        "plt.figure(figsize=(7,7))\n",
        "plt.imshow(close, cmap='gray')"
      ],
      "execution_count": null,
      "outputs": []
    },
    {
      "cell_type": "code",
      "metadata": {
        "id": "mD4OmXigvJU-"
      },
      "source": [
        "closing = cv2.morphologyEx(img, cv2.MORPH_CLOSE, kernel)\n",
        "plt.figure(figsize=(7,7))\n",
        "plt.imshow(closing, cmap='gray')"
      ],
      "execution_count": null,
      "outputs": []
    },
    {
      "cell_type": "markdown",
      "metadata": {
        "id": "n96tyga8wncs"
      },
      "source": [
        "**Opening = erosion followed by dilation**"
      ]
    },
    {
      "cell_type": "code",
      "metadata": {
        "id": "ou7ZB9w0wZLv"
      },
      "source": [
        "kernel = np.ones((3,3),np.uint8)\n",
        "opening = cv2.morphologyEx(img, cv2.MORPH_OPEN, kernel)\n",
        "plt.figure(figsize=(7,7))\n",
        "plt.imshow(opening, cmap='gray')"
      ],
      "execution_count": null,
      "outputs": []
    },
    {
      "cell_type": "markdown",
      "metadata": {
        "id": "aeEsZhW3xAt_"
      },
      "source": [
        "**Opening can get rid of 'salt' noise**"
      ]
    },
    {
      "cell_type": "code",
      "metadata": {
        "id": "KSjwG-UIwt-Q"
      },
      "source": [
        "# salt noise\n",
        "noisy_img = img.copy() \n",
        "R = np.random.rand(img.shape[0], img.shape[1]) > 0.70\n",
        "noisy_img[R] = 255\n",
        "plt.figure(figsize=(7,7))\n",
        "plt.imshow(noisy_img, cmap='gray')"
      ],
      "execution_count": null,
      "outputs": []
    },
    {
      "cell_type": "code",
      "metadata": {
        "id": "txQso-tZxW6J"
      },
      "source": [
        "kernel = np.ones((3,3),np.uint8)\n",
        "opening = cv2.morphologyEx(noisy_img, cv2.MORPH_OPEN, kernel)\n",
        "plt.figure(figsize=(7,7))\n",
        "plt.imshow(opening, cmap='gray')"
      ],
      "execution_count": null,
      "outputs": []
    },
    {
      "cell_type": "markdown",
      "metadata": {
        "id": "aBcaESCAElG9"
      },
      "source": [
        "# why?"
      ]
    },
    {
      "cell_type": "markdown",
      "metadata": {
        "id": "RnLeP90gx6PI"
      },
      "source": [
        "**Closing can get rid of 'pepper' noise**"
      ]
    },
    {
      "cell_type": "code",
      "metadata": {
        "id": "sRVY0erDxo0Z"
      },
      "source": [
        "# pepper noise\n",
        "noisy_img = img.copy() \n",
        "R = np.random.rand(img.shape[0], img.shape[1]) > 0.60\n",
        "noisy_img[R] = 0\n",
        "plt.figure(figsize=(7,7))\n",
        "plt.imshow(noisy_img, cmap='gray')"
      ],
      "execution_count": null,
      "outputs": []
    },
    {
      "cell_type": "code",
      "metadata": {
        "id": "aUz9Z91Rx_mk"
      },
      "source": [
        "kernel = np.ones((3,3),np.uint8)\n",
        "closing = cv2.morphologyEx(noisy_img, cv2.MORPH_CLOSE, kernel)\n",
        "plt.figure(figsize=(7,7))\n",
        "plt.imshow(closing, cmap='gray')"
      ],
      "execution_count": null,
      "outputs": []
    },
    {
      "cell_type": "markdown",
      "metadata": {
        "id": "OqB5UFYVEntW"
      },
      "source": [
        "* why?"
      ]
    },
    {
      "cell_type": "code",
      "metadata": {
        "id": "r343jLbCyGRq"
      },
      "source": [
        "# Morphological Gradient = difference between dilation and erosion of an image\n",
        "gradient = cv2.morphologyEx(img, cv2.MORPH_GRADIENT, kernel)\n",
        "plt.figure(figsize=(7,7))\n",
        "plt.imshow(gradient, cmap='gray')"
      ],
      "execution_count": null,
      "outputs": []
    },
    {
      "cell_type": "markdown",
      "metadata": {
        "id": "VZZf46Z8y1jl"
      },
      "source": [
        "*   looks like ~ edge detection! (only for binary images)\n",
        "*   Can you think of other ways to find edges in a binary image?"
      ]
    },
    {
      "cell_type": "code",
      "metadata": {
        "id": "oT5lw50Qy6zR"
      },
      "source": [
        "# try kernel shapes that are not square\n",
        "kernel = cv2.getStructuringElement(cv2.MORPH_ELLIPSE,(5,5))\n",
        "kernel"
      ],
      "execution_count": null,
      "outputs": []
    },
    {
      "cell_type": "code",
      "metadata": {
        "id": "XXh0Dn1_zBFD"
      },
      "source": [
        "opening = cv2.morphologyEx(img, cv2.MORPH_OPEN, kernel)\n",
        "plt.figure(figsize=(7,7))\n",
        "plt.imshow(opening, cmap='gray')"
      ],
      "execution_count": null,
      "outputs": []
    },
    {
      "cell_type": "markdown",
      "metadata": {
        "id": "d-kHGlfjSc9R"
      },
      "source": [
        "* Convolution is a linear operator\n",
        "* Are morphological operations linear?\n"
      ]
    }
  ]
}