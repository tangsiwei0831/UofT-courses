{
  "nbformat": 4,
  "nbformat_minor": 0,
  "metadata": {
    "colab": {
      "name": "CSC420_2021_Tutorial_07_B.Taati.ipynb",
      "provenance": [],
      "collapsed_sections": []
    },
    "kernelspec": {
      "name": "python3",
      "display_name": "Python 3"
    },
    "accelerator": "TPU"
  },
  "cells": [
    {
      "cell_type": "markdown",
      "metadata": {
        "id": "uIEIgn8eLUTm"
      },
      "source": [
        "#Tutorial 7\n",
        "\n",
        "#CSC420 - Fall 2021\n",
        "\n",
        "#Babak Taati"
      ]
    },
    {
      "cell_type": "code",
      "metadata": {
        "id": "AOgDZEQMLU8C"
      },
      "source": [
        "# mount your google drive\n",
        "from google.colab import drive\n",
        "\n",
        "# This will prompt for authorization.\n",
        "drive.mount('/content/drive')"
      ],
      "execution_count": null,
      "outputs": []
    },
    {
      "cell_type": "code",
      "metadata": {
        "id": "W6xhnWkcfpCi"
      },
      "source": [
        "# install OpenCV\n",
        "!pip install opencv-python\n",
        "\n",
        "# the usual ...\n",
        "%matplotlib inline\n",
        "import matplotlib.pyplot as plt\n",
        "import cv2\n",
        "import numpy as np"
      ],
      "execution_count": null,
      "outputs": []
    },
    {
      "cell_type": "code",
      "metadata": {
        "id": "q5nYC3uxftNR"
      },
      "source": [
        "# read an image (make sure CavePainting.jpg is in the main folder in your Google Drive)\n",
        "# img = cv2.imread('/content/drive/My Drive/Window2.jpg') # READS IN NUMPY ARRAY\n",
        "img = cv2.imread('/content/drive/My Drive/Corners2.png') # READS IN NUMPY ARRAY"
      ],
      "execution_count": null,
      "outputs": []
    },
    {
      "cell_type": "code",
      "metadata": {
        "id": "rsFEopuZf1Jf"
      },
      "source": [
        "img = cv2.cvtColor(img, cv2.COLOR_BGR2RGB)"
      ],
      "execution_count": null,
      "outputs": []
    },
    {
      "cell_type": "code",
      "metadata": {
        "id": "IDohXvv5f-62"
      },
      "source": [
        "plt.figure(figsize=(10,10))\n",
        "plt.imshow(img)"
      ],
      "execution_count": null,
      "outputs": []
    },
    {
      "cell_type": "code",
      "metadata": {
        "id": "gU0pwnAdgSFY"
      },
      "source": [
        "gray = cv2.cvtColor(img, cv2.COLOR_RGB2GRAY)\n",
        "#gray = cv2.bitwise_not(gray)\n",
        "#gray = gray*1.1\n",
        "plt.figure(figsize=(10,10))\n",
        "plt.imshow(gray, cmap='gray')\n",
        "blur = cv2.GaussianBlur(gray,(5,5),7)\n",
        "Ix = cv2.Sobel(blur, cv2.CV_64F, 1, 0, ksize=5)\n",
        "Iy = cv2.Sobel(blur, cv2.CV_64F, 0, 1, ksize=5)"
      ],
      "execution_count": null,
      "outputs": []
    },
    {
      "cell_type": "code",
      "metadata": {
        "id": "zSXIrvXUgmBW"
      },
      "source": [
        "plt.figure(figsize=(15,15))\n",
        "plt.subplot(1,2,1), plt.imshow(Ix,cmap = 'gray')\n",
        "plt.subplot(1,2,2), plt.imshow(Iy,cmap = 'gray')\n"
      ],
      "execution_count": null,
      "outputs": []
    },
    {
      "cell_type": "code",
      "metadata": {
        "id": "cwE1vSaHRNil"
      },
      "source": [
        "# don't do it this way!\n",
        "cx = np.zeros(img.shape, np.uint8)\n",
        "cy = np.zeros(img.shape, np.uint8)\n",
        "\n",
        "cx[abs(Ix)>4312] = [255, 100, 120] # try thresholds of 4311 and 4312 (for Corners2.png)\n",
        "cy[abs(Iy)>4312] = [255, 100, 120]\n",
        "c = cv2.bitwise_and(cx, cy)\n",
        "c = cv2.dilate(c, None, iterations = 3)\n",
        "\n",
        "plt.figure(figsize=(7,7))\n",
        "plt.imshow(c)"
      ],
      "execution_count": null,
      "outputs": []
    },
    {
      "cell_type": "code",
      "metadata": {
        "id": "4K6ZbuA3gth1"
      },
      "source": [
        "# do it this way\n",
        "IxIy = np.multiply(Ix, Iy)\n",
        "Ix2 = np.multiply(Ix, Ix)\n",
        "Iy2 = np.multiply(Iy, Iy)"
      ],
      "execution_count": null,
      "outputs": []
    },
    {
      "cell_type": "code",
      "metadata": {
        "id": "ZgzeGFCphAKp"
      },
      "source": [
        "Ix2_blur = cv2.GaussianBlur(Ix2,(7,7),10) \n",
        "Iy2_blur = cv2.GaussianBlur(Iy2,(7,7),10) \n",
        "IxIy_blur = cv2.GaussianBlur(IxIy,(7,7),10) "
      ],
      "execution_count": null,
      "outputs": []
    },
    {
      "cell_type": "code",
      "metadata": {
        "id": "L4aljhuQh2_v"
      },
      "source": [
        "plt.figure(figsize=(20,20))\n",
        "plt.subplot(1,3,1), plt.imshow(Ix2_blur,cmap = 'gray')\n",
        "plt.subplot(1,3,2), plt.imshow(Iy2_blur,cmap = 'gray')\n",
        "plt.subplot(1,3,3), plt.imshow(IxIy_blur,cmap = 'gray')\n"
      ],
      "execution_count": null,
      "outputs": []
    },
    {
      "cell_type": "code",
      "metadata": {
        "id": "v2tekMMuiEZs"
      },
      "source": [
        "det = np.multiply(Ix2_blur, Iy2_blur) - np.multiply(IxIy_blur,IxIy_blur)\n",
        "trace = Ix2_blur + Iy2_blur"
      ],
      "execution_count": null,
      "outputs": []
    },
    {
      "cell_type": "code",
      "metadata": {
        "id": "Rnu4CwqwizvX"
      },
      "source": [
        "plt.figure(figsize=(15,15))\n",
        "plt.subplot(1,2,1), plt.imshow(det,cmap = 'gray')\n",
        "plt.subplot(1,2,2), plt.imshow(trace,cmap = 'gray')"
      ],
      "execution_count": null,
      "outputs": []
    },
    {
      "cell_type": "code",
      "metadata": {
        "id": "W5iTiGc6i_b2"
      },
      "source": [
        "R = det - 0.05 * np.multiply(trace,trace)\n",
        "plt.figure(figsize=(15,15))\n",
        "plt.subplot(1,2,1), plt.imshow(img), plt.axis('off')\n",
        "plt.subplot(1,2,2), plt.imshow(R,cmap = 'gray'), plt.axis('off')"
      ],
      "execution_count": null,
      "outputs": []
    },
    {
      "cell_type": "code",
      "metadata": {
        "id": "OKSsX6guZSzR"
      },
      "source": [
        "# show the original image, \n",
        "img2 = img.copy()\n",
        "img2[R > 0.05 * R.max()]=[255, 255, 0] \n",
        "plt.figure(figsize=(7,7))\n",
        "plt.imshow(img2)"
      ],
      "execution_count": null,
      "outputs": []
    },
    {
      "cell_type": "code",
      "metadata": {
        "id": "TefVjjYvqadG"
      },
      "source": [
        "# See also:\n",
        "#    cornerHarris\n",
        "#    cornerEigenValsAndVecs\n",
        "#    cornerSubPix\n",
        "#    goodFeaturesToTrack   # finds N strongest corners in the image by Shi-Tomasi method or Harris Corner Detection (list of image points instead of image)"
      ],
      "execution_count": null,
      "outputs": []
    },
    {
      "cell_type": "code",
      "metadata": {
        "id": "JPQJb9H2ZBEP"
      },
      "source": [
        "# using cornerHarris\n",
        "corners = cv2.cornerHarris(np.float32(gray),3,3,0.05)\n",
        "plt.figure(figsize=(7,7))\n",
        "plt.imshow(corners, cmap = 'gray')"
      ],
      "execution_count": null,
      "outputs": []
    },
    {
      "cell_type": "code",
      "metadata": {
        "id": "JpRxDjWgrog4"
      },
      "source": [
        "# dilate the corners \n",
        "corners = cv2.dilate(corners, None, iterations = 5) \n",
        "  \n",
        "# show the original image, \n",
        "img3 = img.copy()\n",
        "img3[corners > 0.05 * corners.max()]=[255, 255, 100] \n",
        "plt.figure(figsize=(7,7))\n",
        "plt.imshow(img3)  "
      ],
      "execution_count": null,
      "outputs": []
    },
    {
      "cell_type": "markdown",
      "metadata": {
        "id": "LJRfBkibOQoA"
      },
      "source": [
        "let's try a real image"
      ]
    },
    {
      "cell_type": "code",
      "metadata": {
        "id": "hi36JF4POPlm"
      },
      "source": [
        "img = cv2.imread('/content/drive/My Drive/skyline.jpg') \n",
        "gray = cv2.cvtColor(img, cv2.COLOR_BGR2GRAY)\n",
        "plt.figure(figsize=(7,7))\n",
        "plt.imshow(gray, cmap='gray')\n",
        "plt.xticks([]), plt.yticks([])"
      ],
      "execution_count": null,
      "outputs": []
    },
    {
      "cell_type": "code",
      "metadata": {
        "id": "gJVIRd8kOUQW"
      },
      "source": [
        "corners = cv2.cornerHarris(src=np.float32(gray),blockSize=5,ksize=5,k=0.04)\n",
        "plt.figure(figsize=(7,7))\n",
        "plt.imshow(corners, cmap = 'gray')"
      ],
      "execution_count": null,
      "outputs": []
    },
    {
      "cell_type": "code",
      "metadata": {
        "id": "wRy8If8OPB30"
      },
      "source": [
        "plt.figure(figsize=(7,7))\n",
        "plt.imshow(corners>(0.05 * corners.max()),cmap='gray')"
      ],
      "execution_count": null,
      "outputs": []
    },
    {
      "cell_type": "code",
      "metadata": {
        "id": "Tntx-HtoQRnB"
      },
      "source": [
        "# kernel = np.ones((3,3),np.uint8)\n",
        "# dilated_corners = cv2.dilate(corners, kernel, iterations=3)\n",
        "dilated_corners = cv2.dilate(corners, None)\n",
        "plt.figure(figsize=(7,7))\n",
        "plt.imshow(dilated_corners,cmap='gray')\n",
        "plt.imshow(dilated_corners>(0.05 * corners.max()),cmap='gray')"
      ],
      "execution_count": null,
      "outputs": []
    },
    {
      "cell_type": "code",
      "metadata": {
        "id": "gO0rNGnvQ_uB"
      },
      "source": [
        "gray2 = gray.copy()\n",
        "gray2[dilated_corners>(0.05 * corners.max())] = 255\n",
        "plt.figure(figsize=(15,15))\n",
        "plt.imshow(gray2,cmap='gray')\n",
        "plt.xticks([]), plt.yticks([])"
      ],
      "execution_count": null,
      "outputs": []
    },
    {
      "cell_type": "code",
      "metadata": {
        "id": "FFbdzvr7Sagd"
      },
      "source": [
        "# let's see it in colour\n",
        "# (why does this work?)\n",
        "img2 = img.copy()\n",
        "img2 = cv2.cvtColor(img2, cv2.COLOR_BGR2RGB)\n",
        "img2[dilated_corners>(0.05 * corners.max())] = [150,255,150]\n",
        "plt.figure(figsize=(15,15))\n",
        "plt.imshow(img2,cmap='gray')\n",
        "plt.xticks([]), plt.yticks([])"
      ],
      "execution_count": null,
      "outputs": []
    },
    {
      "cell_type": "markdown",
      "metadata": {
        "id": "FqLeMzxVUfMY"
      },
      "source": [
        "# Shi-Thomasi corner detector"
      ]
    },
    {
      "cell_type": "code",
      "metadata": {
        "id": "fLVulmFnTRsF"
      },
      "source": [
        "corners = cv2.goodFeaturesToTrack(gray, maxCorners=100, qualityLevel=0.01, minDistance=10)\n",
        "corners"
      ],
      "execution_count": null,
      "outputs": []
    },
    {
      "cell_type": "code",
      "metadata": {
        "id": "-3745OxlUyHs"
      },
      "source": [
        "corners = np.int0(corners)\n",
        "img3 = img.copy()\n",
        "img3 = cv2.cvtColor(img3, cv2.COLOR_BGR2RGB)\n",
        "for i in corners:\n",
        "  x,y = i.ravel()\n",
        "  cv2.circle(img3, (x,y), 5, (100,255,100), -1)\n",
        "\n",
        "plt.figure(figsize=(15,15))\n",
        "plt.imshow(img3)\n",
        "plt.xticks([]), plt.yticks([])"
      ],
      "execution_count": null,
      "outputs": []
    },
    {
      "cell_type": "markdown",
      "metadata": {
        "id": "sEFgHem9CutA"
      },
      "source": [
        "# checkerboard detection (useful for camera calibration)"
      ]
    },
    {
      "cell_type": "code",
      "metadata": {
        "id": "G52BZaQTVaCP"
      },
      "source": [
        "img = cv2.imread('/content/drive/My Drive/Perspective_chessboard.png') # image from Wikipedia\n",
        "\n",
        "plt.figure(figsize=(10,10))\n",
        "plt.imshow(img,cmap='gray')\n",
        "plt.xticks([]), plt.yticks([])"
      ],
      "execution_count": null,
      "outputs": []
    },
    {
      "cell_type": "markdown",
      "metadata": {
        "id": "SpvwEUIRDsIY"
      },
      "source": [
        "how many corners do you see?"
      ]
    },
    {
      "cell_type": "code",
      "metadata": {
        "id": "H-BZilhKDImA"
      },
      "source": [
        "found, corners = cv2.findChessboardCorners(img,(9,6))\n",
        "\n",
        "print(found)\n",
        "corners.shape"
      ],
      "execution_count": null,
      "outputs": []
    },
    {
      "cell_type": "code",
      "metadata": {
        "id": "WL8dXco3Du7P"
      },
      "source": [
        "img2 = img.copy()\n",
        "cv2.drawChessboardCorners(img2, (9, 6), corners, found)\n",
        "\n",
        "plt.figure(figsize=(10,10))\n",
        "plt.imshow(img2)\n",
        "plt.xticks([]), plt.yticks([])"
      ],
      "execution_count": null,
      "outputs": []
    }
  ]
}