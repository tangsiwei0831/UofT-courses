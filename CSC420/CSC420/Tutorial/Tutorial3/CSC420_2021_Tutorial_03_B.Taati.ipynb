{
 "cells": [
  {
   "cell_type": "markdown",
   "metadata": {},
   "source": [
    "# Tutorial 3\n",
    "\n",
    "# CSC420 - Fall 2021\n",
    "\n",
    "# Babak Taati"
   ]
  },
  {
   "cell_type": "markdown",
   "metadata": {},
   "source": [
    "# (this tutorial doesn't run in Colab)"
   ]
  },
  {
   "cell_type": "code",
   "execution_count": 2,
   "metadata": {},
   "outputs": [],
   "source": [
    "import cv2\n",
    "import numpy as np"
   ]
  },
  {
   "cell_type": "code",
   "execution_count": 3,
   "metadata": {},
   "outputs": [],
   "source": [
    "# mouse callback function - draw a circle\n",
    "def draw_circle(event,x,y,flags,param):\n",
    "\n",
    "    global center,radius,clicked\n",
    "\n",
    "    if event == cv2.EVENT_LBUTTONDOWN: # mouse click down -> get centre\n",
    "        center = (x,y)\n",
    "        clicked = False\n",
    "    \n",
    "    if event == cv2.EVENT_LBUTTONUP: # mouse release -> calculate radius\n",
    "        radius = int( np.linalg.norm( np.asarray(center) - np.asarray((x,y)) ) )\n",
    "        clicked = True\n",
    "        \n",
    "# initialize \n",
    "center = (0,0)\n",
    "clicked = False\n",
    "radius = 0\n",
    "\n",
    "\n",
    "img = cv2.imread('UofT.jpg') # READS IN NUMPY ARRAY\n",
    "\n",
    "cv2.namedWindow('UofT') # create a named window\n",
    "cv2.setMouseCallback('UofT', draw_circle) # link the named window with the callback function\n",
    "\n",
    "while True:\n",
    "\n",
    "    if clicked==True:\n",
    "        cv2.circle(img, center=center, radius=radius, color=(255,100,20), thickness=3)\n",
    "        \n",
    "    cv2.imshow('UofT', img)\n",
    "\n",
    "    if cv2.waitKey(1) & 0xFF == 27: # wait a 1 ms and exit if ESC is pressed\n",
    "        break\n",
    "\n",
    "cv2.destroyAllWindows()"
   ]
  },
  {
   "cell_type": "code",
   "execution_count": 4,
   "metadata": {},
   "outputs": [
    {
     "name": "stdout",
     "output_type": "stream",
     "text": [
      "width =  640\n",
      "height =  480\n"
     ]
    }
   ],
   "source": [
    "# display live camera feed\n",
    "\n",
    "cap = cv2.VideoCapture(0) # 0: default camera - (you can try (1) or (2) ... if you have more than one camera)\n",
    "\n",
    "width = int(cap.get(cv2.CAP_PROP_FRAME_WIDTH)) \n",
    "height = int(cap.get(cv2.CAP_PROP_FRAME_HEIGHT))\n",
    "\n",
    "print('width = ', width)\n",
    "print('height = ', height)\n",
    "\n",
    "while True:\n",
    "    \n",
    "    ret, frame = cap.read() # grab a fram\n",
    "    cv2.imshow('live camera feed',frame) # display it\n",
    "    \n",
    "    if cv2.waitKey(1) & 0xFF == 27: # wait 1 ms and exit is ESC is pressed\n",
    "        break\n",
    "\n",
    "cap.release() # release the capture\n",
    "cv2.destroyAllWindows() # close the window"
   ]
  },
  {
   "cell_type": "code",
   "execution_count": 6,
   "metadata": {},
   "outputs": [],
   "source": [
    "# display live camera feed & save into file\n",
    "\n",
    "cap = cv2.VideoCapture(0) \n",
    "\n",
    "width = int(cap.get(cv2.CAP_PROP_FRAME_WIDTH)) \n",
    "height = int(cap.get(cv2.CAP_PROP_FRAME_HEIGHT))\n",
    "\n",
    "fps = 20 # what's the problem with this?\n",
    "         # our capture is as fast as we can, but we're writing in the file header 20 fps\n",
    "         # try setting fps to 200 and see what happens (play the recorded video)\n",
    "writer = cv2.VideoWriter('test.mp4', cv2.VideoWriter_fourcc(*'XVID'),fps, (width, height))\n",
    "\n",
    "while True:\n",
    "    \n",
    "    ret, frame = cap.read() # grab a fram\n",
    "    cv2.imshow('live camera feed',frame) # display it\n",
    "    writer.write(frame) # write to file\n",
    "    \n",
    "    if cv2.waitKey(1) & 0xFF == 27: # wait 1 ms and exit is ESC is pressed\n",
    "        break\n",
    "\n",
    "\n",
    "cap.release()\n",
    "writer.release() # release the write capture \n",
    "cv2.destroyAllWindows()"
   ]
  },
  {
   "cell_type": "code",
   "execution_count": 7,
   "metadata": {},
   "outputs": [
    {
     "name": "stdout",
     "output_type": "stream",
     "text": [
      "fps =  22\n"
     ]
    }
   ],
   "source": [
    "# video from file\n",
    "\n",
    "import time\n",
    "\n",
    "cap = cv2.VideoCapture('myshortvideo.mp4')\n",
    "\n",
    "fps = int(cap.get(cv2.CAP_PROP_FPS)) \n",
    "print('fps = ', fps)\n",
    "\n",
    "if cap.isOpened()== False: # ==false e.g. if video file doesn't exist or path is incorrect\n",
    "    print(\"could not open video file.\")\n",
    "\n",
    "# While the video is opened\n",
    "while cap.isOpened():\n",
    "\n",
    "    ret, frame = cap.read()\n",
    "    \n",
    "    if ret == True: # if frame capture successful\n",
    "        \n",
    "        time.sleep(1./fps - 0.001) # we'll wait another ms later for waitKey\n",
    "        cv2.imshow('video',frame)\n",
    "\n",
    "        if cv2.waitKey(1) & 0xFF == 27: # wait 1 ms and exit is ESC is pressed\n",
    "            break\n",
    "    else:\n",
    "        break # jump out when the video is over.\n",
    "        \n",
    "cap.release()\n",
    "cv2.destroyAllWindows()"
   ]
  },
  {
   "cell_type": "code",
   "execution_count": 10,
   "metadata": {},
   "outputs": [
    {
     "name": "stdout",
     "output_type": "stream",
     "text": [
      "fps =  22\n",
      "w =  432\n",
      "h =  240\n"
     ]
    }
   ],
   "source": [
    "# video from file / modify / write to file\n",
    "\n",
    "cap = cv2.VideoCapture('myshortvideo.mp4')\n",
    "\n",
    "\n",
    "fps = int(cap.get(cv2.CAP_PROP_FPS)) \n",
    "print('fps = ', fps)\n",
    "\n",
    "width = int(cap.get(cv2.CAP_PROP_FRAME_WIDTH)) \n",
    "height = int(cap.get(cv2.CAP_PROP_FRAME_HEIGHT))\n",
    "\n",
    "w = int(width/2)\n",
    "h = height //2\n",
    "\n",
    "print('w = ', w)\n",
    "print('h = ', h)\n",
    "\n",
    "writer = cv2.VideoWriter('myshortvideo_smaller.mp4', cv2.VideoWriter_fourcc(*'XVID'),fps, (w, h))\n",
    "\n",
    "if cap.isOpened()== False: # ==false e.g. if video file doesn't exist or path is incorrect\n",
    "    print(\"could not open video file.\")\n",
    "\n",
    "# While the video is opened\n",
    "while cap.isOpened():\n",
    "\n",
    "    ret, frame = cap.read()\n",
    "    \n",
    "    if ret == True: # if frame capture successful\n",
    "        \n",
    "        time.sleep(1./fps - 0.001) # we'll wait another ms later for waitKey\n",
    "        cv2.imshow('video',frame)\n",
    "\n",
    "        small_frame = cv2.resize(frame, (w,h))\n",
    "        writer.write(small_frame) # write to file\n",
    "        \n",
    "        if cv2.waitKey(1) & 0xFF == 27: # wait 1 ms and exit is ESC is pressed\n",
    "            break\n",
    "    else:\n",
    "        break # jump out when the video is over.\n",
    "        \n",
    "cap.release()\n",
    "writer.release()\n",
    "cv2.destroyAllWindows()"
   ]
  },
  {
   "cell_type": "code",
   "execution_count": null,
   "metadata": {},
   "outputs": [],
   "source": []
  }
 ],
 "metadata": {
  "kernelspec": {
   "display_name": "Python 3",
   "language": "python",
   "name": "python3"
  },
  "language_info": {
   "codemirror_mode": {
    "name": "ipython",
    "version": 3
   },
   "file_extension": ".py",
   "mimetype": "text/x-python",
   "name": "python",
   "nbconvert_exporter": "python",
   "pygments_lexer": "ipython3",
   "version": "3.6.6"
  }
 },
 "nbformat": 4,
 "nbformat_minor": 2
}
