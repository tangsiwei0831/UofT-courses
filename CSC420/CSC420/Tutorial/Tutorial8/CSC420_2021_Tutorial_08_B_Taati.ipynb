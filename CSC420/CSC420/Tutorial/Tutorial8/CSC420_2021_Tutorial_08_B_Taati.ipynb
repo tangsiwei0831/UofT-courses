{
  "nbformat": 4,
  "nbformat_minor": 0,
  "metadata": {
    "accelerator": "TPU",
    "colab": {
      "name": "CSC420_2021_Tutorial_08_B.Taati.ipynb",
      "provenance": [],
      "collapsed_sections": []
    },
    "kernelspec": {
      "display_name": "Python 3",
      "name": "python3"
    }
  },
  "cells": [
    {
      "cell_type": "markdown",
      "metadata": {
        "id": "sRevpOVFhbJ8"
      },
      "source": [
        "##Tutorial 8\n",
        "\n",
        "##CSC420 - Fall 2021\n",
        "\n",
        "##Babak Taati"
      ]
    },
    {
      "cell_type": "code",
      "metadata": {
        "id": "YmA6U28aXTDm"
      },
      "source": [
        "from google.colab import drive\n",
        "# This will prompt for authorization.\n",
        "drive.mount('/content/drive')"
      ],
      "execution_count": null,
      "outputs": []
    },
    {
      "cell_type": "code",
      "metadata": {
        "id": "LJsaIuyPXtoG"
      },
      "source": [
        "import numpy as np\n",
        "import matplotlib.pyplot as plt"
      ],
      "execution_count": null,
      "outputs": []
    },
    {
      "cell_type": "code",
      "metadata": {
        "id": "3SCC1oX2Xm30"
      },
      "source": [
        "# install OpenCV\n",
        "!pip install opencv-python\n",
        "import cv2"
      ],
      "execution_count": null,
      "outputs": []
    },
    {
      "cell_type": "markdown",
      "metadata": {
        "id": "EGA_63-mhf4Z"
      },
      "source": [
        "# Optical Flow"
      ]
    },
    {
      "cell_type": "markdown",
      "metadata": {
        "id": "mivvYsliW0a8"
      },
      "source": [
        "##let's start with sparse optical flow\n",
        "here we show it on an image pair. For practice, try sparse optical flow tracking on live camera feed (not in Colab). We had a video demo in Tutorial 3 that you can build up on."
      ]
    },
    {
      "cell_type": "code",
      "metadata": {
        "id": "UIlKKNQAXm8-"
      },
      "source": [
        "img = cv2.imread('/content/drive/My Drive/Peppa.jpg') \n",
        "\n",
        "shift1 = 7 \n",
        "shift2 = -9\n",
        "\n",
        "# let's first artificially generate a movement\n",
        "img_prev = img[shift1:,:shift2,:] # shift a few pixels down\n",
        "img_current = img[:-shift1,-shift2:,:] # shift a few pixels to the right\n",
        "\n",
        "gray_prev = cv2.cvtColor(img_prev, cv2.COLOR_BGR2GRAY)\n",
        "gray_current = cv2.cvtColor(img_current, cv2.COLOR_BGR2GRAY)\n",
        "\n",
        "plt.figure(figsize=(15,15))\n",
        "plt.subplot(1,2,1), plt.imshow(gray_prev,cmap = 'gray')\n",
        "plt.subplot(1,2,2), plt.imshow(gray_current,cmap = 'gray')\n"
      ],
      "execution_count": null,
      "outputs": []
    },
    {
      "cell_type": "code",
      "metadata": {
        "id": "ESTFe6yIGIPE"
      },
      "source": [
        "gray_current.shape"
      ],
      "execution_count": null,
      "outputs": []
    },
    {
      "cell_type": "code",
      "metadata": {
        "id": "dzm7WOF8GKiB"
      },
      "source": [
        "gray_prev.shape"
      ],
      "execution_count": null,
      "outputs": []
    },
    {
      "cell_type": "code",
      "metadata": {
        "id": "U9zH34mQ84z8"
      },
      "source": [
        "# select 50 corners using the Shi-Thomasi method (recall from Tutorial 7)\n",
        "pts_prev = cv2.goodFeaturesToTrack(gray_prev, maxCorners=50, qualityLevel=0.1, minDistance=10)"
      ],
      "execution_count": null,
      "outputs": []
    },
    {
      "cell_type": "code",
      "metadata": {
        "id": "7Wv-lHNs9IRY"
      },
      "source": [
        "img_prev_copy = img_prev.copy()\n",
        "\n",
        "for i in pts_prev:\n",
        "  x,y = i.ravel()\n",
        "  cv2.circle(img_prev_copy, (x,y), 5, (255,255,0), -1)\n",
        "\n",
        "plt.figure(figsize=(10,10))\n",
        "plt.imshow(img_prev_copy)\n",
        "plt.xticks([]), plt.yticks([])"
      ],
      "execution_count": null,
      "outputs": []
    },
    {
      "cell_type": "code",
      "metadata": {
        "id": "0BZZvfunBPxw"
      },
      "source": [
        "# sparse optical flow \n",
        "opt_flow_params = dict(winSize=(50,50), maxLevel=2, criteria=(cv2.TERM_CRITERIA_EPS | cv2.TERM_CRITERIA_COUNT, 10,0.03))\n",
        "pts_moved, status, err = cv2.calcOpticalFlowPyrLK(gray_prev, gray_current, pts_prev, None, **opt_flow_params)\n",
        "# look up SparsePyrLKOpticalFlow and SparseOpticalFlow on OpenCV documentations"
      ],
      "execution_count": null,
      "outputs": []
    },
    {
      "cell_type": "code",
      "metadata": {
        "id": "smZhipeoC5yp"
      },
      "source": [
        "print(pts_prev.shape)\n",
        "print(pts_moved.shape)"
      ],
      "execution_count": null,
      "outputs": []
    },
    {
      "cell_type": "code",
      "metadata": {
        "id": "UulQopqYC7xa"
      },
      "source": [
        "img_current_copy = img_current.copy()\n",
        "\n",
        "for i in pts_moved:\n",
        "  x,y = i.ravel()\n",
        "  cv2.circle(img_current_copy, (x,y), 5, (255,255,0), -1)\n",
        "\n",
        "plt.figure(figsize=(15,15))\n",
        "plt.subplot(1,2,1), plt.imshow(img_prev_copy)\n",
        "plt.subplot(1,2,2), plt.imshow(img_current_copy)"
      ],
      "execution_count": null,
      "outputs": []
    },
    {
      "cell_type": "code",
      "metadata": {
        "id": "t3jmC1rTFLGl"
      },
      "source": [
        "pts_prev - pts_moved"
      ],
      "execution_count": null,
      "outputs": []
    },
    {
      "cell_type": "code",
      "metadata": {
        "id": "1kKuGnPNGuzY"
      },
      "source": [
        "np.mean(pts_moved - pts_prev, axis=0)"
      ],
      "execution_count": null,
      "outputs": []
    },
    {
      "cell_type": "code",
      "metadata": {
        "id": "-gLW02dgYnoK"
      },
      "source": [
        "# mean error (in pixels)\n",
        "( np.mean(pts_moved - pts_prev, axis=0) - [shift2,shift1] ) "
      ],
      "execution_count": null,
      "outputs": []
    },
    {
      "cell_type": "code",
      "metadata": {
        "id": "5L-9-fHoG5wQ"
      },
      "source": [
        "# max error (in pixels)\n",
        "( np.max(pts_moved - pts_prev, axis=0) - [shift2,shift1] ) "
      ],
      "execution_count": null,
      "outputs": []
    },
    {
      "cell_type": "markdown",
      "metadata": {
        "id": "AYQ7VtBsgTvj"
      },
      "source": [
        "## now let's do dense optical flow on the same image pair\n",
        "Again, here we show it on an image pair. "
      ]
    },
    {
      "cell_type": "code",
      "metadata": {
        "id": "Z5YeINmFYK4j"
      },
      "source": [
        "flow = cv2.calcOpticalFlowFarneback(gray_prev, gray_current, None, pyr_scale=0.5, levels=5, winsize=15, iterations=10, poly_n=5, poly_sigma=1.0, flags=cv2.OPTFLOW_FARNEBACK_GAUSSIAN)"
      ],
      "execution_count": null,
      "outputs": []
    },
    {
      "cell_type": "code",
      "metadata": {
        "id": "XSKJyHhmfi5G"
      },
      "source": [
        "plt.figure(figsize=(15,15))\n",
        "plt.subplot(1,2,1), plt.imshow(flow[:,:,0])\n",
        "plt.subplot(1,2,2), plt.imshow(flow[:,:,1])"
      ],
      "execution_count": null,
      "outputs": []
    },
    {
      "cell_type": "code",
      "metadata": {
        "id": "yesOHvGDhNyx"
      },
      "source": [
        "flow[0:5,0:4,0]"
      ],
      "execution_count": null,
      "outputs": []
    },
    {
      "cell_type": "markdown",
      "metadata": {
        "id": "CQpZW9Pjhn9I"
      },
      "source": [
        "hmm ... we were expecting them all to be around 7. what's going on?"
      ]
    },
    {
      "cell_type": "code",
      "metadata": {
        "id": "xC7ngg8NheNM"
      },
      "source": [
        "flow[0:5,0:4,1]"
      ],
      "execution_count": null,
      "outputs": []
    },
    {
      "cell_type": "code",
      "metadata": {
        "id": "2YKhaj6qhu8x"
      },
      "source": [
        "np.median(flow[:,:,0])"
      ],
      "execution_count": null,
      "outputs": []
    },
    {
      "cell_type": "markdown",
      "metadata": {
        "id": "BcgBCpIhh3Sn"
      },
      "source": [
        "that was better!"
      ]
    },
    {
      "cell_type": "code",
      "metadata": {
        "id": "9bGZz0Nfh0Ui"
      },
      "source": [
        "np.median(flow[:,:,1])"
      ],
      "execution_count": null,
      "outputs": []
    },
    {
      "cell_type": "code",
      "metadata": {
        "id": "bxqPovbJh6na"
      },
      "source": [
        "# let's see where in the image the X errors are smaller than 0.05 pixels\n",
        "x_good = np.abs(flow[:,:,0] - shift2) < 0.05\n",
        "y_good = np.abs(flow[:,:,1] - shift1) < 0.05\n",
        "\n",
        "plt.figure(figsize=(15,15))\n",
        "plt.subplot(1,2,1), plt.imshow(x_good,cmap='gray')\n",
        "plt.subplot(1,2,2), plt.imshow(y_good,cmap='gray')"
      ],
      "execution_count": null,
      "outputs": []
    },
    {
      "cell_type": "code",
      "metadata": {
        "id": "ue9e-uiDoEuM"
      },
      "source": [
        "# show on the (prev) image\n",
        "xy_good = np.bitwise_and(x_good, y_good)\n",
        "\n",
        "plt.figure(figsize=(15,15))\n",
        "plt.subplot(1,2,1), plt.imshow(img_prev)\n",
        "plt.subplot(1,2,2), plt.imshow( cv2.bitwise_and(img_prev, img_prev, dst=None, mask=np.uint8(xy_good)) )"
      ],
      "execution_count": null,
      "outputs": []
    },
    {
      "cell_type": "markdown",
      "metadata": {
        "id": "rpvtcIkjfcbX"
      },
      "source": [
        "## To run optical flow on live camera feed (not in Colab) refer back to Tutorial 3. \n",
        "What cool stuff can you do with it? \n",
        "1. Can you color-code movements in each direction? (left/up/right/bottom) (see here for example: https://docs.opencv.org/4.1.2/d4/dee/tutorial_optical_flow.html)\n",
        "2. Can you color-code towards the camera movements (e.g. red=movement towards the camera, blue=movement away from the camera, black= not moving, or movements left/right or up/down). Remember *divergence* from Calculus?"
      ]
    }
  ]
}